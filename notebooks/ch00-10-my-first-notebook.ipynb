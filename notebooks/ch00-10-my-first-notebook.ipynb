{
 "cells": [
  {
   "cell_type": "markdown",
   "metadata": {
    "collapsed": true
   },
   "source": [
    "## Jupyter Notebook入門\n",
    "\n",
    "左側に``In [ ]``と表示されている領域のことを「セル」といいます。  \n",
    "Jupyter Notebookによる操作の原理は次のとおりです。\n",
    "\n",
    "* プログラム実行は**「セル」**の単位で行います。\n",
    "\n",
    "\n",
    "* 実行する場合は、実行対象のセルを選択した状態で**「Run」アイコン**のクリック、または**[Shift] + [Enter]**入力を行います。\n",
    "\n",
    "\n",
    "* 実行結果はカーネル上に記憶されています。別のセルから**計算結果を保存した変数**や、**定義した関数**が参照できるということです。\n",
    "\n",
    "\n",
    "* 実行結果が画面表示を含むものであった場合(グラフを含む)、結果は**実行したセルの直下**に表示されます。\n",
    "\n",
    "\n",
    "* Notebookファイルを保存する場合、**実行結果も含めた形**で保存されます。  \n",
    "外部ファイルとして保存するための手順はメニューから**「File」->「Download as」->「Notebook (.ipynb)」**です。\n",
    "\n",
    "\n",
    "* 過去の実行結果をご破算にしたい場合は、**「カーネル再起動」**を行います。  \n",
    "メニューから実行する場合は**「Kernel」-> 「Restart」**を選択します。\n",
    "\n",
    "\n",
    "* カーネルがクリアされても画面上の実行結果は残っています。  \n",
    "画面上の実行結果を含めてご破算にしたい場合は、**「Kernel」->「Restart & Clear Output」**を選択します。\n"
   ]
  },
  {
   "cell_type": "markdown",
   "metadata": {},
   "source": [
    "### 最初の課題 (新規セルから実行)\n",
    "\n",
    "次のセルに ``1+1``を入力し、**「Run」アイコン**クリックまたは**[Shift]+[Enter]**でセルの実行を行って下さい。"
   ]
  },
  {
   "cell_type": "code",
   "execution_count": null,
   "metadata": {},
   "outputs": [],
   "source": []
  },
  {
   "cell_type": "markdown",
   "metadata": {},
   "source": [
    "既存のノートブックに新規セルを挿入したい場合、画面上部の「+」アイコンをクリックするか、\n",
    "メニューから**「Insert」->「Insert Cell Above**」または**「Inser Cell Below」**を選択します。"
   ]
  },
  {
   "cell_type": "markdown",
   "metadata": {},
   "source": [
    "## 事前定義のプログラムの実行\n",
    "\n",
    "Notebokから読み込んだ時点でセルに入力済みのプログラムがPythonとして有効なものであった場合、  \n",
    "そのセルを選択した状態で「セルの実行」を行うことで、事前に定義してあるPythonプログラムを簡単に動かすことができます。\n",
    "\n"
   ]
  },
  {
   "cell_type": "markdown",
   "metadata": {},
   "source": [
    "### ２番目の課題 (既存セルから実行)\n",
    "\n",
    "次のPythonコード事前定義済みセルを選択した状態で、**「Run」**アイコンクリックまたは**[Shift]+[Enter]**でセルの実行を行って下さい。  \n",
    "(参考のため解説をコメントとして書いておきましたが、現段階でコードの意味はわからなくていいです。操作方法のみ理解するようにして下さい。)"
   ]
  },
  {
   "cell_type": "code",
   "execution_count": null,
   "metadata": {},
   "outputs": [],
   "source": [
    "# f(x, y)= x^2 + y^2のグラフの3次元表示 \n",
    "\n",
    "# グラフ表示のために必要な宣言\n",
    "%matplotlib inline\n",
    "\n",
    "# 必要ライブラリのインポート\n",
    "import numpy as np\n",
    "import matplotlib.pyplot as plt\n",
    "from mpl_toolkits.mplot3d import Axes3D \n",
    "from matplotlib import cm\n",
    "\n",
    "# 関数定義\n",
    "def func(x,y):\n",
    "    return x**2 + y**2\n",
    "\n",
    "# x, yの座標値計算\n",
    "x = np.arange(-5,5,0.05)\n",
    "y = np.arange(-5,5,0.05)\n",
    "\n",
    "# 座標値を元にメッシュ状に(x, y)の値を生成\n",
    "X, Y = np.meshgrid(x,y)\n",
    "\n",
    "# (x, y)の値に対して関数値の計算\n",
    "Z = func(X,Y)\n",
    "\n",
    "# グラフ機能の呼出し\n",
    "fig = plt.figure()\n",
    "\n",
    "# ３次元グラフの宣言\n",
    "ax = Axes3D(fig)\n",
    "\n",
    "# 関数の三次元グラフ描画\n",
    "ax.plot_surface(X,Y,Z,cmap=cm.coolwarm) \n",
    "\n",
    "# グラフの画面表示\n",
    "plt.show()"
   ]
  },
  {
   "cell_type": "markdown",
   "metadata": {},
   "source": [
    "### 3番目の課題 (カーネル再起動の確認)\n",
    "\n",
    "**3-A**: 次のセルに\n",
    "\n",
    "```\n",
    "print(func(2, 1))\n",
    "```\n",
    "\n",
    "のコマンドを入力し、実行して下さい。\n",
    "\n",
    "**3-B**: 上のガイドに従い「カーネル再起動」を行い、その後で``print(func(2, 1))``のセルを再度実行して下さい。\n",
    "    \n",
    "**3-C**: グラフ描画のセルを実行した後でもう一度``print(func(2, 1))``を実行して下さい。    "
   ]
  },
  {
   "cell_type": "code",
   "execution_count": null,
   "metadata": {},
   "outputs": [],
   "source": []
  },
  {
   "cell_type": "markdown",
   "metadata": {},
   "source": [
    "(解説)\n",
    "3-Aの段階でfunc(2, 1)が計算できたのは、グラフ描画を行うセルの中にこの関数の定義が含まれていたからです。  \n",
    "「カーネル再起動」を行うことで、この定義もクリアされました。それで3-Bの段階では同じ関数呼び出しがエラーになりました。"
   ]
  },
  {
   "cell_type": "code",
   "execution_count": null,
   "metadata": {},
   "outputs": [],
   "source": []
  }
 ],
 "metadata": {
  "kernelspec": {
   "display_name": "Python 3",
   "language": "python",
   "name": "python3"
  },
  "language_info": {
   "codemirror_mode": {
    "name": "ipython",
    "version": 3
   },
   "file_extension": ".py",
   "mimetype": "text/x-python",
   "name": "python",
   "nbconvert_exporter": "python",
   "pygments_lexer": "ipython3",
   "version": "3.7.3"
  }
 },
 "nbformat": 4,
 "nbformat_minor": 1
}
