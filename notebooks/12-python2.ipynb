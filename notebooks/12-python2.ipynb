{
 "cells": [
  {
   "cell_type": "markdown",
   "metadata": {},
   "source": [
    "## Python入門2\n",
    "文字列から関数定義まで"
   ]
  },
  {
   "cell_type": "markdown",
   "metadata": {},
   "source": [
    "### 文字列\n",
    "\n",
    "文字列はstrという型を持っていますが、文字の配列としての性質も持っています。"
   ]
  },
  {
   "cell_type": "code",
   "execution_count": null,
   "metadata": {},
   "outputs": [],
   "source": [
    "str1 = 'Hello World!'"
   ]
  },
  {
   "cell_type": "code",
   "execution_count": null,
   "metadata": {},
   "outputs": [],
   "source": [
    "# クラス名が表示される (文字列クラスとしての振る舞い)\n",
    "\n",
    "print(type(str1))"
   ]
  },
  {
   "cell_type": "code",
   "execution_count": null,
   "metadata": {},
   "outputs": [],
   "source": [
    "# 文字数が表示される (配列としての振る舞い)\n",
    "\n",
    "print(len(str1))"
   ]
  },
  {
   "cell_type": "code",
   "execution_count": null,
   "metadata": {},
   "outputs": [],
   "source": [
    "# 最初の文字が表示される (配列としての振る舞い)\n",
    "\n",
    "print(str1[0])"
   ]
  },
  {
   "cell_type": "code",
   "execution_count": null,
   "metadata": {},
   "outputs": [],
   "source": [
    "# 0以上5未満の要素が表示 (配列としての振る舞い)\n",
    "\n",
    "print(str1[0:5])"
   ]
  },
  {
   "cell_type": "markdown",
   "metadata": {},
   "source": [
    "#### print関数の利用\n",
    "\n",
    " print関数で、文字列と数値をつないで表示したい場合、複数のパラメータを列挙する形にします。"
   ]
  },
  {
   "cell_type": "code",
   "execution_count": null,
   "metadata": {},
   "outputs": [],
   "source": [
    "# 整数変数\n",
    "\n",
    "x1 = 1\n",
    "\n",
    "# 浮動小数点変数\n",
    "\n",
    "x2 = 2.0\n",
    "\n",
    "# 整数の表示\n",
    "print('x1 = ', x1, '  x2 = ', x2)"
   ]
  },
  {
   "cell_type": "code",
   "execution_count": null,
   "metadata": {},
   "outputs": [],
   "source": [
    "# print文実行の別方法\n",
    "# (書式つき文字列)\n",
    "\n",
    "print('x1 = %d  x2 = %3.1f' % (x1, x2))"
   ]
  },
  {
   "cell_type": "markdown",
   "metadata": {},
   "source": [
    "### range関数\n",
    "\n",
    "``range``関数を使うと、数値を要素をとしてもつリストを一気に作ることができます。  \n",
    "Python3では、そのままprint関数にかけると``range``オブジェクトとして表示されてしまうので、  \n",
    "``print``関数でその内容を見たい場合は、その結果を``list``関数にかけます。"
   ]
  },
  {
   "cell_type": "code",
   "execution_count": null,
   "metadata": {},
   "outputs": [],
   "source": [
    "# 1引数の例 (0から10未満まで)\n",
    "\n",
    "print(range(10))\n",
    "print(list(range(10)))"
   ]
  },
  {
   "cell_type": "code",
   "execution_count": null,
   "metadata": {},
   "outputs": [],
   "source": [
    "# 2引数の例 (2から10未満まで)\n",
    "\n",
    "print(list(range(2, 10)))"
   ]
  },
  {
   "cell_type": "code",
   "execution_count": null,
   "metadata": {},
   "outputs": [],
   "source": [
    "# 3引数の例 (1から11未満まで2刻み)\n",
    "\n",
    "print(list(range(1, 11, 2)))"
   ]
  },
  {
   "cell_type": "markdown",
   "metadata": {},
   "source": [
    "### 辞書(key-value)\n",
    "\n",
    "辞書型のデータも扱うことができます。  \n",
    "辞書は``dict['key1']``のような形で参照します。   \n",
    "他のプログラム言語でハッシュ型とか連想配列を呼ばれる型になります。"
   ]
  },
  {
   "cell_type": "code",
   "execution_count": null,
   "metadata": {},
   "outputs": [],
   "source": [
    "# 辞書型の宣言\n",
    "\n",
    "dict = {\n",
    "    'key1': 1,\n",
    "    'key2': 2.0,\n",
    "    'key3': 'abc'\n",
    "}"
   ]
  },
  {
   "cell_type": "code",
   "execution_count": null,
   "metadata": {},
   "outputs": [],
   "source": [
    "# キーから値の取得\n",
    "\n",
    "print(dict['key1'])\n",
    "print(dict['key2'])\n",
    "print(dict['key3'])"
   ]
  },
  {
   "cell_type": "code",
   "execution_count": null,
   "metadata": {},
   "outputs": [],
   "source": [
    "# キーの一覧表示\n",
    "\n",
    "keys = dict.keys()\n",
    "print(keys)"
   ]
  },
  {
   "cell_type": "code",
   "execution_count": null,
   "metadata": {},
   "outputs": [],
   "source": [
    "# ソートしたい場合\n",
    "print(sorted(keys))"
   ]
  },
  {
   "cell_type": "code",
   "execution_count": null,
   "metadata": {},
   "outputs": [],
   "source": [
    "# 値の一覧表示\n",
    "\n",
    "values = dict.values()\n",
    "print(values)"
   ]
  },
  {
   "cell_type": "markdown",
   "metadata": {},
   "source": [
    "####  items関数\n",
    "\n",
    "辞書型データに対しては、``keys()``や``values()``という関数以外に``items()``という関数があり、    \n",
    "``(key, value)``のペアをリストにして取得できます。  \n",
    "この関数は、後で説明するループ処理の時に便利な関数です。"
   ]
  },
  {
   "cell_type": "code",
   "execution_count": null,
   "metadata": {},
   "outputs": [],
   "source": [
    "print(dict)\n",
    "print(dict.items())"
   ]
  },
  {
   "cell_type": "markdown",
   "metadata": {},
   "source": [
    "### 分岐\n",
    "\n",
    "Pythonの他の言語との大きな違いの一つとしては分岐、ループなどの制御構造の書き方があります。  \n",
    "制御構造の始まりの行は:で終わります。  \n",
    "また、制御構造の内部はインデント(字下げ)で表現します。\n",
    "(インデントの時はタブキーを入力)  \n",
    "字下げが文法的に意味があるということです。  \n",
    "こうすることで、制御構造の戻りの記述が不要になり、プログラムが見やすくなっています。"
   ]
  },
  {
   "cell_type": "code",
   "execution_count": null,
   "metadata": {},
   "outputs": [],
   "source": [
    "list4 = [0, 1, 2, 3]\n",
    "if list4[0] == 0:\n",
    "    print('true branch')\n",
    "else:\n",
    "    print('false branch')\n",
    "\n",
    "list4[0] = 1\n",
    "if list4[0] == 0:\n",
    "    print('true branch')\n",
    "else:\n",
    "    print('false branch')"
   ]
  },
  {
   "cell_type": "markdown",
   "metadata": {},
   "source": [
    "### ループ\n",
    "\n",
    "ループも分岐同様、始まりが:でループ内部をインデントで表現します。  \n",
    "forループの場合、制御変数を使うことはあまりなく、  \n",
    "\n",
    "for (要素) in (List):  \n",
    "    (要素を使った処理)  \n",
    "\n",
    "で組むことが多いです。\n"
   ]
  },
  {
   "cell_type": "code",
   "execution_count": null,
   "metadata": {},
   "outputs": [],
   "source": [
    "list5 = ['one', 'two', 'three']\n",
    "for item in list5:\n",
    "    print(item)"
   ]
  },
  {
   "cell_type": "code",
   "execution_count": null,
   "metadata": {},
   "outputs": [],
   "source": [
    "# range関数とループを組み合わせた例\n",
    "for index in range(5):\n",
    "    print(index)"
   ]
  },
  {
   "cell_type": "code",
   "execution_count": null,
   "metadata": {},
   "outputs": [],
   "source": [
    "# 辞書型データを対象にしたループ処理\n",
    "dict = {\n",
    "    'key1': 1,\n",
    "    'key2': 2.0,\n",
    "    'key3': 'abc'\n",
    "}\n",
    "\n",
    "# 辞書型変数dictに対してitems()関数で(key, value)をセットで取得します。\n",
    "\n",
    "for key, value in dict.items():\n",
    "    print(key, ' = ', value)"
   ]
  },
  {
   "cell_type": "markdown",
   "metadata": {},
   "source": [
    "#### リスト内包表記\n",
    "\n",
    "リスト内包表記はPython固有の表記法の一つです。  \n",
    "ループ処理を簡潔で直感的にわかりやすい表記で記述することができます。  \n",
    "機械学習のコーディングでよく出てくるので、是非使えるようにして下さい。"
   ]
  },
  {
   "cell_type": "markdown",
   "metadata": {},
   "source": [
    "![](https://github.com/makaishi2/kcgi-course-contents/raw/master/images/python-fig1.png)"
   ]
  },
  {
   "cell_type": "code",
   "execution_count": null,
   "metadata": {},
   "outputs": [],
   "source": [
    "list_str = ['abc', 'def', 'ghi']"
   ]
  },
  {
   "cell_type": "code",
   "execution_count": null,
   "metadata": {},
   "outputs": [],
   "source": [
    "# 「リスト内包表記」の実装サンプル\n",
    "# 各要素の後ろに':'を追加\n",
    "\n",
    "ret3 = [item + ':' for item in list_str]\n",
    "print(ret3)"
   ]
  },
  {
   "cell_type": "markdown",
   "metadata": {},
   "source": [
    "![](https://github.com/makaishi2/kcgi-course-contents/raw/master/images/python-fig2.png)"
   ]
  },
  {
   "cell_type": "code",
   "execution_count": null,
   "metadata": {},
   "outputs": [],
   "source": [
    "# 「リスト内包表記」をifと組みあわせた実装サンプル\n",
    "# 前の計算結果のうち、要素が'def'のものを除く\n",
    "\n",
    "ret4 = [item + ':' for item in list_str if item != 'def']\n",
    "print(ret4)"
   ]
  },
  {
   "cell_type": "markdown",
   "metadata": {},
   "source": [
    "### enumerate関数\n",
    "\n",
    "``enumerate``関数を使うと、リストから``(index, element)``のペアを生成することができます。  \n",
    "この関数はループ処理で便利です。"
   ]
  },
  {
   "cell_type": "code",
   "execution_count": null,
   "metadata": {},
   "outputs": [],
   "source": [
    "list5 = ['one', 'two', 'three']\n",
    "\n",
    "for index, item in enumerate(list5):\n",
    "    print(index, ': ', item)"
   ]
  },
  {
   "cell_type": "markdown",
   "metadata": {},
   "source": [
    "### 関数\n",
    "\n",
    "関数も分岐、ループ同様インデントで関数内部を表現します。\n"
   ]
  },
  {
   "cell_type": "code",
   "execution_count": null,
   "metadata": {},
   "outputs": [],
   "source": [
    "# 関数定義の例\n",
    "\n",
    "def square(x) :\n",
    "    return x * x"
   ]
  },
  {
   "cell_type": "code",
   "execution_count": null,
   "metadata": {},
   "outputs": [],
   "source": [
    "# 関数呼出しの例\n",
    "\n",
    "print(square(3))"
   ]
  },
  {
   "cell_type": "code",
   "execution_count": null,
   "metadata": {},
   "outputs": [],
   "source": [
    "# 無名関数(lambda式)を使った関数定義の例\n",
    "\n",
    "square2 = lambda x: x**2\n",
    "print(square2(3))"
   ]
  },
  {
   "cell_type": "code",
   "execution_count": null,
   "metadata": {},
   "outputs": [],
   "source": [
    "# 複数の値を返す関数の例\n",
    "def powers(x):\n",
    "    return x ** 2, x ** 3, x ** 4"
   ]
  },
  {
   "cell_type": "code",
   "execution_count": null,
   "metadata": {},
   "outputs": [],
   "source": [
    "x2, x3, x4 = powers(5)\n",
    "print('x2 = ', x2)\n",
    "print('x3 = ', x3)\n",
    "print('x4 = ', x4)\n"
   ]
  },
  {
   "cell_type": "code",
   "execution_count": null,
   "metadata": {},
   "outputs": [],
   "source": []
  }
 ],
 "metadata": {
  "kernelspec": {
   "display_name": "Python 3",
   "language": "python",
   "name": "python3"
  },
  "language_info": {
   "codemirror_mode": {
    "name": "ipython",
    "version": 3
   },
   "file_extension": ".py",
   "mimetype": "text/x-python",
   "name": "python",
   "nbconvert_exporter": "python",
   "pygments_lexer": "ipython3",
   "version": "3.7.3"
  }
 },
 "nbformat": 4,
 "nbformat_minor": 1
}
