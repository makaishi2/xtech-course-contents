{
 "cells": [
  {
   "cell_type": "markdown",
   "metadata": {},
   "source": [
    "# 7章　線形回帰"
   ]
  },
  {
   "cell_type": "code",
   "execution_count": null,
   "metadata": {},
   "outputs": [],
   "source": [
    "# 必要ライブラリの宣言\n",
    "%matplotlib inline\n",
    "import numpy as np\n",
    "import matplotlib.pyplot as plt"
   ]
  },
  {
   "cell_type": "code",
   "execution_count": null,
   "metadata": {},
   "outputs": [],
   "source": [
    "# PDF出力用\n",
    "from IPython.display import set_matplotlib_formats\n",
    "set_matplotlib_formats('png', 'pdf')"
   ]
  },
  {
   "cell_type": "code",
   "execution_count": null,
   "metadata": {},
   "outputs": [],
   "source": [
    "# 必要ライブラリimport\n",
    "from sklearn.datasets import load_boston"
   ]
  },
  {
   "cell_type": "code",
   "execution_count": null,
   "metadata": {},
   "outputs": [],
   "source": [
    "# 学習用データの読み込み\n",
    "# Boston Dataセットというよく使われるデータなので、関数を呼び出すと自動的にダウンロードされます\n",
    "\n",
    "boston = load_boston()\n",
    "x_org, yt = boston.data, boston.target\n",
    "feature_names = boston.feature_names"
   ]
  },
  {
   "cell_type": "code",
   "execution_count": null,
   "metadata": {},
   "outputs": [],
   "source": [
    "# 正解データ ytの表示(一部)\n",
    "\n",
    "print(yt[:5])"
   ]
  },
  {
   "cell_type": "code",
   "execution_count": null,
   "metadata": {},
   "outputs": [],
   "source": [
    "# x_orgの内容を調べる\n",
    "\n",
    "print('クラス名:', type(x_org))\n",
    "print('サイズ:', x_org.shape)\n",
    "print('内容表示(一部):')\n",
    "print( x_org[:5,:])\n",
    "print('項目名: ', feature_names)"
   ]
  },
  {
   "cell_type": "code",
   "execution_count": null,
   "metadata": {},
   "outputs": [],
   "source": [
    "# x_org は506 x 13 の行列\n",
    "# この行列から'RM' の列だけを抽出する\n",
    "\n",
    "x_data = x_org[:,feature_names == 'RM']"
   ]
  },
  {
   "cell_type": "code",
   "execution_count": null,
   "metadata": {},
   "outputs": [],
   "source": [
    "# 結果確認\n",
    "\n",
    "print('絞り込み後のサイズ', x_data.shape)\n",
    "print('絞り込み後の内容(一部)')\n",
    "print( x_data[:5])"
   ]
  },
  {
   "cell_type": "code",
   "execution_count": null,
   "metadata": {},
   "outputs": [],
   "source": [
    "# ダミー変数を追加\n",
    "\n",
    "x = np.insert(x_data, 0, 1.0, axis=1)"
   ]
  },
  {
   "cell_type": "code",
   "execution_count": null,
   "metadata": {},
   "outputs": [],
   "source": [
    "# 結果確認\n",
    "\n",
    "print('ダミー変数追加後のサイズ', x.shape)\n",
    "print('ダミー変数追加後の内容(一部):')\n",
    "print( x[:5,:])"
   ]
  },
  {
   "cell_type": "code",
   "execution_count": null,
   "metadata": {},
   "outputs": [],
   "source": [
    "# 散布図の表示\n",
    "plt.scatter(x[:,1], yt, s=10, c='b')\n",
    "plt.xlabel('ROOM', fontsize=14)\n",
    "plt.ylabel('PRICE', fontsize=14)\n",
    "plt.show()"
   ]
  },
  {
   "cell_type": "code",
   "execution_count": null,
   "metadata": {},
   "outputs": [],
   "source": [
    "# 予測関数 (1, x)の値から予測値ypを計算する\n",
    "def pred(x, w):\n",
    "    return(x @ w)"
   ]
  },
  {
   "cell_type": "code",
   "execution_count": null,
   "metadata": {},
   "outputs": [],
   "source": [
    "# 初期化処理\n",
    "\n",
    "# データ系列総数\n",
    "M  = x.shape[0]\n",
    "\n",
    "# 入力データ次元数(ダミー変数を含む)\n",
    "D = x.shape[1]\n",
    "\n",
    "# 繰り返し回数\n",
    "iters = 50000\n",
    "\n",
    "# 学習率\n",
    "alpha = 0.01\n",
    "\n",
    "# 重みベクトルの初期値 (すべての値を1にする)\n",
    "w = np.ones(D)\n",
    "\n",
    "# 評価結果記録用 (損失関数値のみ記録)\n",
    "history = np.zeros((0,2))"
   ]
  },
  {
   "cell_type": "code",
   "execution_count": null,
   "metadata": {},
   "outputs": [],
   "source": [
    "# 繰り返しループ\n",
    "for k in range(iters):\n",
    "    \n",
    "    # 予測値の計算 (7.8.1)\n",
    "    yp = pred(x, w)\n",
    "    \n",
    "    # 誤差の計算 (7.8.2)\n",
    "    yd = yp - yt\n",
    "    \n",
    "    # 勾配降下法の実装 (7.8.4)\n",
    "    w = w - alpha * (x.T @ yd) / M\n",
    "    \n",
    "    # 学習曲線描画用データの計算、保存\n",
    "    if ( k % 100 == 0):\n",
    "        # 損失関数値の計算 (7.6.1)\n",
    "        loss = np.mean(yd ** 2) / 2\n",
    "        # 計算結果の記録\n",
    "        history = np.vstack((history, np.array([k, loss])))\n",
    "        # 画面表示\n",
    "        print( \"iter = %d  loss = %f\" % (k, loss))    "
   ]
  },
  {
   "cell_type": "code",
   "execution_count": null,
   "metadata": {},
   "outputs": [],
   "source": [
    "# 最終的な損失関数初期値、最終値\n",
    "print('損失関数初期値: %f' % history[0,1])\n",
    "print('損失関数最終値: %f' % history[-1,1])"
   ]
  },
  {
   "cell_type": "code",
   "execution_count": null,
   "metadata": {},
   "outputs": [],
   "source": [
    "# 下記直線描画用の座標値計算\n",
    "xall = x[:,1]\n",
    "xl = np.array([[1, xall.min()],[1, xall.max()]])\n",
    "yl = pred(xl, w)"
   ]
  },
  {
   "cell_type": "code",
   "execution_count": null,
   "metadata": {},
   "outputs": [],
   "source": [
    "# 散布図と回帰直線の描画\n",
    "plt.figure(figsize=(6,6))\n",
    "plt.scatter(x[:,1], yt, s=10, c='b')\n",
    "plt.xlabel('ROOM', fontsize=14)\n",
    "plt.ylabel('PRICE', fontsize=14)\n",
    "plt.plot(xl[:,1], yl, c='k')\n",
    "plt.show()"
   ]
  },
  {
   "cell_type": "code",
   "execution_count": null,
   "metadata": {},
   "outputs": [],
   "source": [
    "# 学習曲線の表示 (最初の1個分を除く)\n",
    "plt.plot(history[1:,0], history[1:,1])\n",
    "plt.show()"
   ]
  },
  {
   "cell_type": "markdown",
   "metadata": {},
   "source": [
    "## 単回帰モデルをライブラリを使って実装する"
   ]
  },
  {
   "cell_type": "code",
   "execution_count": null,
   "metadata": {},
   "outputs": [],
   "source": [
    "# ダミー変数除去\n",
    "x_lib = x[:,1:2]\n",
    "\n",
    "# 結果確認\n",
    "print(x_lib[:5])"
   ]
  },
  {
   "cell_type": "code",
   "execution_count": null,
   "metadata": {},
   "outputs": [],
   "source": [
    "# scikit-learn ライブラリから線形回帰モデルをロードします\n",
    "from sklearn import linear_model"
   ]
  },
  {
   "cell_type": "code",
   "execution_count": null,
   "metadata": {},
   "outputs": [],
   "source": [
    "# 線形回帰モデルの定義を行います\n",
    "model1 = linear_model.LinearRegression()"
   ]
  },
  {
   "cell_type": "code",
   "execution_count": null,
   "metadata": {},
   "outputs": [],
   "source": [
    "# 学習\n",
    "model1.fit(x_lib, yt)"
   ]
  },
  {
   "cell_type": "code",
   "execution_count": null,
   "metadata": {},
   "outputs": [],
   "source": [
    "# 予測\n",
    "y_lib = model1.predict(x_lib)\n",
    "# 予測値の最大、最小\n",
    "yp_lib = [y_lib.min(), y_lib.max()]"
   ]
  },
  {
   "cell_type": "code",
   "execution_count": null,
   "metadata": {},
   "outputs": [],
   "source": [
    "# 先ほどの結果との比較\n",
    "print(yp_lib)\n",
    "print(yl)"
   ]
  },
  {
   "cell_type": "markdown",
   "metadata": {},
   "source": [
    "## 7.10  重回帰モデルへの拡張"
   ]
  },
  {
   "cell_type": "code",
   "execution_count": null,
   "metadata": {},
   "outputs": [],
   "source": [
    "# 列(LSTAT: 低所得者率)の取得\n",
    "x_add = x_org[:,feature_names == 'LSTAT']"
   ]
  },
  {
   "cell_type": "code",
   "execution_count": null,
   "metadata": {},
   "outputs": [],
   "source": [
    "# 結果確認\n",
    "print('絞り込み後のサイズ', x_add.shape)\n",
    "print('絞り込み後の内容(一部)')\n",
    "print( x_add[:5])"
   ]
  },
  {
   "cell_type": "code",
   "execution_count": null,
   "metadata": {},
   "outputs": [],
   "source": [
    "# xに列を追加\n",
    "x2 = np.hstack((x, x_add))"
   ]
  },
  {
   "cell_type": "code",
   "execution_count": null,
   "metadata": {},
   "outputs": [],
   "source": [
    "# 結果確認\n",
    "print('絞り込み後のサイズ', x2.shape)\n",
    "print('絞り込み後の内容(一部)')\n",
    "print( x2[:5])"
   ]
  },
  {
   "cell_type": "code",
   "execution_count": null,
   "metadata": {},
   "outputs": [],
   "source": [
    "# 初期化処理\n",
    "\n",
    "# データ系列総数\n",
    "M  = x2.shape[0]\n",
    "\n",
    "# 入力データ次元数(ダミー変数を含む)\n",
    "D = x2.shape[1]\n",
    "\n",
    "# 繰り返し回数\n",
    "iters = 50000\n",
    "\n",
    "# 学習率\n",
    "alpha = 0.01\n",
    "\n",
    "# 重みベクトルの初期値 (すべての値を1にする)\n",
    "w = np.ones(D)\n",
    "\n",
    "# 評価結果記録用 (損失関数値のみ記録)\n",
    "history = np.zeros((0,2))"
   ]
  },
  {
   "cell_type": "code",
   "execution_count": null,
   "metadata": {},
   "outputs": [],
   "source": [
    "# 繰り返しループ\n",
    "for k in range(iters):\n",
    "    \n",
    "    # 予測値の計算 (7.8.1)\n",
    "    yp = pred(x2, w)\n",
    "    \n",
    "    # 誤差の計算 (7.8.2)\n",
    "    yd = yp - yt\n",
    "    \n",
    "    # 勾配降下法の実装 (7.8.4)\n",
    "    w = w - alpha * (x2.T @ yd) / M\n",
    "    \n",
    "    # 学習曲線描画用データの計算、保存\n",
    "    if ( k % 100 == 0):\n",
    "        # 損失関数値の計算 (7.6.1)\n",
    "        loss = np.mean(yd ** 2) / 2\n",
    "        # 計算結果の記録\n",
    "        history = np.vstack((history, np.array([k, loss])))\n",
    "        # 画面表示\n",
    "        print( \"iter = %d  loss = %f\" % (k, loss))    "
   ]
  },
  {
   "cell_type": "code",
   "execution_count": null,
   "metadata": {},
   "outputs": [],
   "source": [
    "# 初期化処理 (パラメータを適切な値に変更)\n",
    "\n",
    "# データ系列総数\n",
    "M  = x2.shape[0]\n",
    "\n",
    "# 入力データ次元数(ダミー変数を含む)\n",
    "D = x2.shape[1]\n",
    "\n",
    "# 繰り返し回数\n",
    "#iters = 50000\n",
    "iters = 2000\n",
    "\n",
    "# 学習率\n",
    "#alpha = 0.01\n",
    "alpha = 0.001\n",
    "\n",
    "# 重みベクトルの初期値 (すべての値を1にする)\n",
    "w = np.ones(D)\n",
    "\n",
    "# 評価結果記録用 (損失関数値のみ記録)\n",
    "history = np.zeros((0,2))"
   ]
  },
  {
   "cell_type": "code",
   "execution_count": null,
   "metadata": {},
   "outputs": [],
   "source": [
    "# 繰り返しループ\n",
    "for k in range(iters):\n",
    "    \n",
    "    # 予測値の計算 (7.8.1)\n",
    "    yp = pred(x2, w)\n",
    "    \n",
    "    # 誤差の計算 (7.8.2)\n",
    "    yd = yp - yt\n",
    "    \n",
    "    # 勾配降下法の実装 (7.8.4)\n",
    "    w = w - alpha * (x2.T @ yd) / M\n",
    "    \n",
    "    # 学習曲線描画用データの計算、保存\n",
    "    if ( k % 100 == 0):\n",
    "        # 損失関数値の計算 (7.6.1)\n",
    "        loss = np.mean(yd ** 2) / 2\n",
    "        # 計算結果の記録\n",
    "        history = np.vstack((history, np.array([k, loss])))\n",
    "        # 画面表示\n",
    "        print( \"iter = %d  loss = %f\" % (k, loss))    "
   ]
  },
  {
   "cell_type": "code",
   "execution_count": null,
   "metadata": {
    "scrolled": true
   },
   "outputs": [],
   "source": [
    "# 最終的な損失関数初期値、最終値\n",
    "print('損失関数初期値: %f' % history[0,1])\n",
    "print('損失関数最終値: %f' % history[-1,1])"
   ]
  },
  {
   "cell_type": "code",
   "execution_count": null,
   "metadata": {},
   "outputs": [],
   "source": [
    "# 学習曲線の表示 (最初の10個分を除く)\n",
    "plt.plot(history[:,0], history[:,1])\n",
    "plt.show()"
   ]
  },
  {
   "cell_type": "code",
   "execution_count": null,
   "metadata": {},
   "outputs": [],
   "source": []
  }
 ],
 "metadata": {
  "kernelspec": {
   "display_name": "Python 3",
   "language": "python",
   "name": "python3"
  },
  "language_info": {
   "codemirror_mode": {
    "name": "ipython",
    "version": 3
   },
   "file_extension": ".py",
   "mimetype": "text/x-python",
   "name": "python",
   "nbconvert_exporter": "python",
   "pygments_lexer": "ipython3",
   "version": "3.7.3"
  }
 },
 "nbformat": 4,
 "nbformat_minor": 1
}
