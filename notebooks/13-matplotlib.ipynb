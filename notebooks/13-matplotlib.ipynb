{
 "cells": [
  {
   "cell_type": "markdown",
   "metadata": {},
   "source": [
    "## Matplotlib入門"
   ]
  },
  {
   "cell_type": "markdown",
   "metadata": {},
   "source": [
    "### Matplotlibとは\n",
    "\n",
    "PythonのJupyter Notebook環境でグラフ表示を行うためのライブラリです。  \n",
    "NumpyやPandasとの連携を前提に設計されており、簡潔なコードで様々なグラフ表示を行うことができます。  \n",
    "以下は7章の線形回帰の実習で出てくるMatplotlib呼出しコードの解説です。  \n",
    "(書籍内では説明が省かれています)"
   ]
  },
  {
   "cell_type": "markdown",
   "metadata": {},
   "source": [
    "#### データ準備\n",
    "Numpy2で解説したコードなので、説明は省略します。"
   ]
  },
  {
   "cell_type": "code",
   "execution_count": 1,
   "metadata": {},
   "outputs": [],
   "source": [
    "# 必要ライブラリimport\n",
    "import numpy as np\n",
    "from sklearn.datasets import load_boston\n",
    "\n",
    "boston = load_boston()\n",
    "x_org, yt = boston.data, boston.target\n",
    "feature_names = boston.feature_names\n",
    "\n",
    "x_data = x_org[:,feature_names == 'RM']\n",
    "x = np.insert(x_data, 0, 1.0, axis=1)"
   ]
  },
  {
   "cell_type": "markdown",
   "metadata": {},
   "source": [
    "#### 散布図の表示"
   ]
  },
  {
   "cell_type": "code",
   "execution_count": 2,
   "metadata": {},
   "outputs": [],
   "source": [
    "# 必要ライブラリimport\n",
    "%matplotlib inline\n",
    "import matplotlib.pyplot as plt"
   ]
  },
  {
   "cell_type": "code",
   "execution_count": 3,
   "metadata": {},
   "outputs": [
    {
     "data": {
      "image/png": "[encoded data removed]",
      "text/plain": [
       "<Figure size 432x288 with 1 Axes>"
      ]
     },
     "metadata": {
      "needs_background": "light"
     },
     "output_type": "display_data"
    }
   ],
   "source": [
    "# 散布図の表示\n",
    "\n",
    "# 散布図は scatter関数で表示します。\n",
    "# 第一引数 xの値の配列 (例では x[:,1])\n",
    "# 第二引数 yの値の配列 (例ではyt)\n",
    "# s: 点の大きさ (オプション)\n",
    "# c: 色指定 (オプション)\n",
    "plt.scatter(x[:,1], yt, s=10, c='b')\n",
    "\n",
    "# xlabel: x軸のラベル表示\n",
    "plt.xlabel('ROOM', fontsize=14)\n",
    "\n",
    "# ylabel: ｙ軸のラベル表示\n",
    "plt.ylabel('PRICE', fontsize=14)\n",
    "\n",
    "# 画面描画を明示的に指示\n",
    "plt.show()"
   ]
  },
  {
   "cell_type": "markdown",
   "metadata": {},
   "source": [
    "#### グラフ表示\n",
    "7章では学習曲線の表示にplot関数が使われています。  \n",
    "学習曲線の計算は大変なので、代わりに5章で出てくるシグモイド関数のグラフ表示コードを示します。"
   ]
  },
  {
   "cell_type": "code",
   "execution_count": 4,
   "metadata": {},
   "outputs": [],
   "source": [
    "# シグモイド関数の定義\n",
    "def sigmoid(x):\n",
    "    return 1/(1 + np.exp(-x))"
   ]
  },
  {
   "cell_type": "code",
   "execution_count": 5,
   "metadata": {},
   "outputs": [],
   "source": [
    "# xの配列作成\n",
    "# linescapeは与えられた区間の間に等間隔の点を取る関数です。\n",
    "# 下記の例では 区間[-5, 5]の間に101個の点を取ります。\n",
    "\n",
    "x = np.linspace(-5, 5, 101)"
   ]
  },
  {
   "cell_type": "code",
   "execution_count": 6,
   "metadata": {},
   "outputs": [
    {
     "name": "stdout",
     "output_type": "stream",
     "text": [
      "[-5.  -4.9 -4.8 -4.7 -4.6]\n"
     ]
    }
   ],
   "source": [
    "# xの内容表示(一部)\n",
    "print(x[:5])"
   ]
  },
  {
   "cell_type": "code",
   "execution_count": 7,
   "metadata": {},
   "outputs": [],
   "source": [
    "# yの配列作成\n",
    "y = sigmoid(x)"
   ]
  },
  {
   "cell_type": "code",
   "execution_count": 8,
   "metadata": {},
   "outputs": [
    {
     "name": "stdout",
     "output_type": "stream",
     "text": [
      "[0.00669285 0.00739154 0.00816257 0.0090133  0.0099518 ]\n"
     ]
    }
   ],
   "source": [
    "# yの内容表示(一部)\n",
    "print(y[:5])"
   ]
  },
  {
   "cell_type": "code",
   "execution_count": 9,
   "metadata": {},
   "outputs": [
    {
     "data": {
      "image/png": "[encoded data removed]",
      "text/plain": [
       "<Figure size 432x288 with 1 Axes>"
      ]
     },
     "metadata": {
      "needs_background": "light"
     },
     "output_type": "display_data"
    }
   ],
   "source": [
    "# グラフ表示\n",
    "\n",
    "# グラフ表示はplot関数で描画する\n",
    "# 第一引数: xの配列\n",
    "# 第二引数: yの配列\n",
    "# label: グラフのラベル指定(オプション)\n",
    "plt.plot(x, y, label='sigmoid')\n",
    "\n",
    "# グラフ上にグリッド表示を追加\n",
    "plt.grid()\n",
    "\n",
    "# グラフ上に凡例表示を追加\n",
    "plt.legend()\n",
    "\n",
    "# 画面描画を明示的に指示\n",
    "plt.show()"
   ]
  },
  {
   "cell_type": "code",
   "execution_count": null,
   "metadata": {},
   "outputs": [],
   "source": []
  },
  {
   "cell_type": "code",
   "execution_count": null,
   "metadata": {},
   "outputs": [],
   "source": []
  }
 ],
 "metadata": {
  "kernelspec": {
   "display_name": "Python 3",
   "language": "python",
   "name": "python3"
  },
  "language_info": {
   "codemirror_mode": {
    "name": "ipython",
    "version": 3
   },
   "file_extension": ".py",
   "mimetype": "text/x-python",
   "name": "python",
   "nbconvert_exporter": "python",
   "pygments_lexer": "ipython3",
   "version": "3.7.3"
  }
 },
 "nbformat": 4,
 "nbformat_minor": 1
}
