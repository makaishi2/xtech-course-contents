{
 "cells": [
  {
   "cell_type": "markdown",
   "metadata": {},
   "source": [
    "## Numpy入門2\n",
    "7章の単回帰モデル実習での、学習データ準備の過程を詳しく説明しました。  \n",
    "(この解説は書籍には含まれていません)"
   ]
  },
  {
   "cell_type": "code",
   "execution_count": null,
   "metadata": {},
   "outputs": [],
   "source": [
    "# 必要ライブラリimport\n",
    "import numpy as np\n",
    "from sklearn.datasets import load_boston"
   ]
  },
  {
   "cell_type": "code",
   "execution_count": null,
   "metadata": {},
   "outputs": [],
   "source": [
    "# 学習用データの読み込み\n",
    "# Boston Dataセットというよく使われるデータなので、関数を呼び出すと自動的にダウンロードされます\n",
    "\n",
    "boston = load_boston()\n",
    "x_org, yt = boston.data, boston.target\n",
    "feature_names = boston.feature_names"
   ]
  },
  {
   "cell_type": "code",
   "execution_count": null,
   "metadata": {},
   "outputs": [],
   "source": [
    "# 正解データ ytの表示(一部)\n",
    "\n",
    "print(yt[:5])"
   ]
  },
  {
   "cell_type": "code",
   "execution_count": null,
   "metadata": {},
   "outputs": [],
   "source": [
    "# x_orgの内容を調べる\n",
    "\n",
    "print('クラス名:', type(x_org))\n",
    "print('サイズ:', x_org.shape)\n",
    "print('内容表示(一部):')\n",
    "print( x_org[:5,:])\n",
    "print('項目名: ', feature_names)"
   ]
  },
  {
   "cell_type": "code",
   "execution_count": null,
   "metadata": {},
   "outputs": [],
   "source": [
    "# x_org は506 x 13 の行列\n",
    "# この行列から'RM' の列だけを抽出する\n",
    "\n",
    "x_data = x_org[:,feature_names == 'RM']"
   ]
  },
  {
   "cell_type": "code",
   "execution_count": null,
   "metadata": {},
   "outputs": [],
   "source": [
    "# 結果確認\n",
    "\n",
    "print('絞り込み後のサイズ', x_data.shape)\n",
    "print('絞り込み後の内容(一部)')\n",
    "print( x_data[:5])"
   ]
  },
  {
   "cell_type": "code",
   "execution_count": null,
   "metadata": {},
   "outputs": [],
   "source": [
    "# ダミー変数を追加\n",
    "\n",
    "x = np.insert(x_data, 0, 1.0, axis=1)"
   ]
  },
  {
   "cell_type": "code",
   "execution_count": null,
   "metadata": {},
   "outputs": [],
   "source": [
    "# 結果確認\n",
    "\n",
    "print('ダミー変数追加後のサイズ', x.shape)\n",
    "print('ダミー変数追加後の内容(一部):')\n",
    "print( x[:5,:])"
   ]
  },
  {
   "cell_type": "markdown",
   "metadata": {},
   "source": [
    "## 重回帰用データ追加"
   ]
  },
  {
   "cell_type": "code",
   "execution_count": null,
   "metadata": {},
   "outputs": [],
   "source": [
    "# 列(LSTAT: 低所得者率)の取得\n",
    "x_add = x_org[:,feature_names == 'LSTAT']"
   ]
  },
  {
   "cell_type": "code",
   "execution_count": null,
   "metadata": {},
   "outputs": [],
   "source": [
    "# 結果確認\n",
    "print('絞り込み後のサイズ', x_add.shape)\n",
    "print('絞り込み後の内容(一部)')\n",
    "print( x_add[:5])"
   ]
  },
  {
   "cell_type": "code",
   "execution_count": null,
   "metadata": {},
   "outputs": [],
   "source": [
    "# xに列を追加\n",
    "x2 = np.hstack((x, x_add))"
   ]
  },
  {
   "cell_type": "code",
   "execution_count": null,
   "metadata": {},
   "outputs": [],
   "source": [
    "# 結果確認\n",
    "print('絞り込み後のサイズ', x2.shape)\n",
    "print('絞り込み後の内容(一部)')\n",
    "print( x2[:5])"
   ]
  },
  {
   "cell_type": "code",
   "execution_count": null,
   "metadata": {},
   "outputs": [],
   "source": []
  }
 ],
 "metadata": {
  "kernelspec": {
   "display_name": "Python 3",
   "language": "python",
   "name": "python3"
  },
  "language_info": {
   "codemirror_mode": {
    "name": "ipython",
    "version": 3
   },
   "file_extension": ".py",
   "mimetype": "text/x-python",
   "name": "python",
   "nbconvert_exporter": "python",
   "pygments_lexer": "ipython3",
   "version": "3.7.3"
  }
 },
 "nbformat": 4,
 "nbformat_minor": 2
}
