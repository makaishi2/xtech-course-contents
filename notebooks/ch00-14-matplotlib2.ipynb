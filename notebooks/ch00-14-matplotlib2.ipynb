{
 "cells": [
  {
   "cell_type": "markdown",
   "metadata": {},
   "source": [
    "## Matplotlib2\n",
    "matplotlibを使ったグラフの補足例です。"
   ]
  },
  {
   "cell_type": "code",
   "execution_count": null,
   "metadata": {},
   "outputs": [],
   "source": [
    "# ライブラリのロード\n",
    "%matplotlib inline\n",
    "import numpy as np\n",
    "import matplotlib.pyplot as plt"
   ]
  },
  {
   "cell_type": "code",
   "execution_count": null,
   "metadata": {},
   "outputs": [],
   "source": [
    "# PDF出力用\n",
    "from IPython.display import set_matplotlib_formats\n",
    "set_matplotlib_formats('png', 'pdf')"
   ]
  },
  {
   "cell_type": "code",
   "execution_count": null,
   "metadata": {},
   "outputs": [],
   "source": [
    "# 交差エントロピー関数 (正解値 = 1の場合)\n",
    "def cross_entropy_1(x):\n",
    "    return -np.log(x)"
   ]
  },
  {
   "cell_type": "code",
   "execution_count": null,
   "metadata": {},
   "outputs": [],
   "source": [
    "# 交差エントロピー関数 (正解値 = 0の場合)\n",
    "def cross_entropy_0(x):\n",
    "    return -np.log(1-x)"
   ]
  },
  {
   "cell_type": "code",
   "execution_count": null,
   "metadata": {},
   "outputs": [],
   "source": [
    "# xの配列作成\n",
    "# linescapeは与えられた区間の間に等間隔の点を取る関数です。\n",
    "\n",
    "x1 = np.linspace(0.5, 1, 101)\n",
    "x0 = np.linspace(0, 0.5, 101)"
   ]
  },
  {
   "cell_type": "code",
   "execution_count": null,
   "metadata": {},
   "outputs": [],
   "source": [
    "# yの配列作成\n",
    "y1 = cross_entropy_1(x1)\n",
    "y0 = cross_entropy_0(x0)"
   ]
  },
  {
   "cell_type": "code",
   "execution_count": null,
   "metadata": {},
   "outputs": [],
   "source": [
    "# グラフ表示 (正解値=1)\n",
    "plt.figure(figsize=(6,6))\n",
    "\n",
    "plt.plot(x1, y1, label='cross_entropy_1')\n",
    "\n",
    "# グラフ上にグリッド表示を追加\n",
    "plt.grid()\n",
    "\n",
    "# グラフ上に凡例表示を追加\n",
    "plt.legend(fontsize=14)\n",
    "\n",
    "\n",
    "# 画面描画を明示的に指示\n",
    "plt.show()"
   ]
  },
  {
   "cell_type": "code",
   "execution_count": null,
   "metadata": {},
   "outputs": [],
   "source": [
    "# グラフ表示 (正解値=0)\n",
    "plt.figure(figsize=(6,6))\n",
    "\n",
    "plt.plot(x0, y0, label='cross_entropy_0')\n",
    "\n",
    "# グラフ上にグリッド表示を追加\n",
    "plt.grid()\n",
    "\n",
    "# グラフ上に凡例表示を追加\n",
    "plt.legend(fontsize=14)\n",
    "\n",
    "# 画面描画を明示的に指示\n",
    "plt.show()"
   ]
  },
  {
   "cell_type": "code",
   "execution_count": null,
   "metadata": {},
   "outputs": [],
   "source": []
  }
 ],
 "metadata": {
  "kernelspec": {
   "display_name": "Python 3",
   "language": "python",
   "name": "python3"
  },
  "language_info": {
   "codemirror_mode": {
    "name": "ipython",
    "version": 3
   },
   "file_extension": ".py",
   "mimetype": "text/x-python",
   "name": "python",
   "nbconvert_exporter": "python",
   "pygments_lexer": "ipython3",
   "version": "3.7.3"
  }
 },
 "nbformat": 4,
 "nbformat_minor": 2
}
