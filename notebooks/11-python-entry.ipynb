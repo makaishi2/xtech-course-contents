{
 "cells": [
  {
   "cell_type": "markdown",
   "metadata": {},
   "source": [
    "## Python入門1\n",
    "変数からタプルまで"
   ]
  },
  {
   "cell_type": "markdown",
   "metadata": {},
   "source": [
    "### 変数の型\n",
    "Pythonの変数には**整数型**、**浮動小数点型**、**文字列型**、**ブーリアン型**などがあります。  \n",
    "C言語のような型の宣言は不要で、代入された値から自動的に型の設定がされます。  \n",
    "変数がどの型を持っているかは、``type``関数で調べることができます。  \n",
    "また、変数の値そのものは ``print``関数で表示できます。"
   ]
  },
  {
   "cell_type": "code",
   "execution_count": null,
   "metadata": {},
   "outputs": [],
   "source": [
    "# 整数型の例\n",
    "\n",
    "x1 = 2\n",
    "print(x1)\n",
    "print(type(x1))"
   ]
  },
  {
   "cell_type": "code",
   "execution_count": null,
   "metadata": {},
   "outputs": [],
   "source": [
    "# 浮動小数点型の例\n",
    "\n",
    "x2 = 3.0\n",
    "print(x2)\n",
    "print(type(x2))"
   ]
  },
  {
   "cell_type": "code",
   "execution_count": null,
   "metadata": {},
   "outputs": [],
   "source": [
    "# 文字列型の例\n",
    "\n",
    "x3 = 'abc'\n",
    "print(x3)\n",
    "print(type(x3))"
   ]
  },
  {
   "cell_type": "code",
   "execution_count": null,
   "metadata": {},
   "outputs": [],
   "source": [
    "# ブーリアン型(True/False)の例\n",
    "\n",
    "x4 = True\n",
    "print(x4)\n",
    "print(type(x4))"
   ]
  },
  {
   "cell_type": "markdown",
   "metadata": {},
   "source": [
    "### 演算\n",
    "\n",
    "数値間の演算は他のプログラム言語同様 ``+, -, *, /`` 等を使います。  \n",
    "文字列同士の連結にも ``+`` を使います。"
   ]
  },
  {
   "cell_type": "code",
   "execution_count": null,
   "metadata": {},
   "outputs": [],
   "source": [
    "# 整数同士の和\n",
    "\n",
    "x1 = 2\n",
    "y1 = 3\n",
    "z1 = x1 + y1\n",
    "print(z1, type(z1))"
   ]
  },
  {
   "cell_type": "code",
   "execution_count": null,
   "metadata": {},
   "outputs": [],
   "source": [
    "# 浮動小数点同士の和\n",
    "\n",
    "x2 = 3.0\n",
    "y2 = 2.0\n",
    "z2 = x2 + y2\n",
    "print(z2, type(z2)) "
   ]
  },
  {
   "cell_type": "code",
   "execution_count": null,
   "metadata": {},
   "outputs": [],
   "source": [
    "# 文字列の連結\n",
    "\n",
    "x3 = 'abc'\n",
    "y3 = 'XYZ'\n",
    "z3 = x3 + y3\n",
    "print(z3, type(z3))"
   ]
  },
  {
   "cell_type": "code",
   "execution_count": null,
   "metadata": {},
   "outputs": [],
   "source": [
    "# 整数と浮動小数点間の演算\n",
    "# 自動的に方が浮動小数点に合わせられる\n",
    "\n",
    "y4 = x1 + y2\n",
    "print(y4, type(y4))"
   ]
  },
  {
   "cell_type": "markdown",
   "metadata": {},
   "source": [
    "#### 比較演算子\n",
    "比較演算子は ``==`` です。"
   ]
  },
  {
   "cell_type": "code",
   "execution_count": null,
   "metadata": {},
   "outputs": [],
   "source": [
    "x1 = 2\n",
    "y1 = 3\n",
    "w1 = 2\n",
    "\n",
    "print(w1 == x1)\n",
    "print(w1 == y1)"
   ]
  },
  {
   "cell_type": "markdown",
   "metadata": {},
   "source": [
    "#### 論理演算子\n",
    "\n",
    "論理演算子は ``and``, ``or``, ``not``です。"
   ]
  },
  {
   "cell_type": "code",
   "execution_count": null,
   "metadata": {},
   "outputs": [],
   "source": [
    "t1 = True\n",
    "t2 = True\n",
    "f1 = False\n",
    "f2 = False"
   ]
  },
  {
   "cell_type": "code",
   "execution_count": null,
   "metadata": {},
   "outputs": [],
   "source": [
    "# AND演算\n",
    "\n",
    "p1 = t1 and t2\n",
    "p2 = t1 and f2\n",
    "print(p1, p2)"
   ]
  },
  {
   "cell_type": "code",
   "execution_count": null,
   "metadata": {},
   "outputs": [],
   "source": [
    "# OR演算\n",
    "\n",
    "q1 = t1 or f1\n",
    "q2 = f1 or f2\n",
    "print(q1, q2)"
   ]
  },
  {
   "cell_type": "code",
   "execution_count": null,
   "metadata": {},
   "outputs": [],
   "source": [
    "# NOT演算\n",
    "\n",
    "r1 = not t1\n",
    "r2 = not f1\n",
    "print(r1, r2)"
   ]
  },
  {
   "cell_type": "markdown",
   "metadata": {},
   "source": [
    "### リスト\n",
    "\n",
    "リストは``[x, y, ...]``のような形式で表現します。  \n",
    "第一要素は``list[0]``, 第二要素は``list[1]``で参照します。  \n",
    "リストの長さを知りたいときは``len``関数を使います。"
   ]
  },
  {
   "cell_type": "code",
   "execution_count": null,
   "metadata": {},
   "outputs": [],
   "source": [
    "# リストの定義\n",
    "\n",
    "list1 = [2, 4, 6, 8, 10, 12, 14]"
   ]
  },
  {
   "cell_type": "code",
   "execution_count": null,
   "metadata": {},
   "outputs": [],
   "source": [
    "# 型は\"list\"\n",
    "\n",
    "print(type(list1))"
   ]
  },
  {
   "cell_type": "code",
   "execution_count": null,
   "metadata": {},
   "outputs": [],
   "source": [
    "# print関数にかけると、全要素が表示される\n",
    "\n",
    "print(list1)"
   ]
  },
  {
   "cell_type": "code",
   "execution_count": null,
   "metadata": {},
   "outputs": [],
   "source": [
    "# 第一要素の表示\n",
    "\n",
    "print(list1[0])"
   ]
  },
  {
   "cell_type": "code",
   "execution_count": null,
   "metadata": {},
   "outputs": [],
   "source": [
    "# 第二要素の表示\n",
    "\n",
    "print(list1[1])"
   ]
  },
  {
   "cell_type": "code",
   "execution_count": null,
   "metadata": {},
   "outputs": [],
   "source": [
    "# リストの長さはlen関数で取得\n",
    "\n",
    "print(len(list1))"
   ]
  },
  {
   "cell_type": "markdown",
   "metadata": {},
   "source": [
    "### 部分リスト\n",
    "\n",
    "``list[0:3]``のような形式の参照も可能で、  \n",
    "この式は第1要素から第3要素までを抜き出した部分リストとなります。  \n",
    "**「0以上で3より前」**という読み方をするとわかりやすいです。"
   ]
  },
  {
   "cell_type": "code",
   "execution_count": null,
   "metadata": {},
   "outputs": [],
   "source": [
    "# list[0]から list[3]より前\n",
    "\n",
    "print(list1[0:3])"
   ]
  },
  {
   "cell_type": "markdown",
   "metadata": {},
   "source": [
    "#### 部分リストの参照パターン\n",
    "\n",
    "``list``を元に部分リストを作る方法には、以下のようないろいろなバリエーションがあります。  \n",
    "機械学習のコーディングでよく使われるテクニックなので、是非マスターして下さい。"
   ]
  },
  {
   "cell_type": "code",
   "execution_count": null,
   "metadata": {},
   "outputs": [],
   "source": [
    "# 最初からlist[2]より前\n",
    "print(list1[0:2])\n",
    "\n",
    "# 第一引数を省略すると\"0\"であるとみなされる\n",
    "print(list1[:2])"
   ]
  },
  {
   "cell_type": "code",
   "execution_count": null,
   "metadata": {},
   "outputs": [],
   "source": [
    "# list[2]から最後まで\n",
    "\n",
    "len1 = len(list1)\n",
    "print(list1[2:len1])\n",
    "\n",
    "# 第二引数を省略すると最終要素(len(list)))であるとみなされる\n",
    "print(list1[2:])"
   ]
  },
  {
   "cell_type": "code",
   "execution_count": null,
   "metadata": {},
   "outputs": [],
   "source": [
    "# ':'' だけの場合は、元のリスト全体を表す\n",
    "\n",
    "print(list1[:])"
   ]
  },
  {
   "cell_type": "code",
   "execution_count": null,
   "metadata": {},
   "outputs": [],
   "source": [
    "# 後ろから2つ\n",
    "\n",
    "print(list1[-2:])"
   ]
  },
  {
   "cell_type": "code",
   "execution_count": null,
   "metadata": {},
   "outputs": [],
   "source": [
    "# 後ろの2つを取り除いたもの\n",
    "\n",
    "print(list1[:-2])"
   ]
  },
  {
   "cell_type": "code",
   "execution_count": null,
   "metadata": {},
   "outputs": [],
   "source": [
    "# 普段は使わないのですが、listには3つめの引数もあり、これを使うとこんなことも可能です\n",
    "\n",
    "# 一つおき\n",
    "\n",
    "print(list1[::2])"
   ]
  },
  {
   "cell_type": "code",
   "execution_count": null,
   "metadata": {},
   "outputs": [],
   "source": [
    "# 第三引数に-1を指定すると「逆順」を意味します\n",
    "\n",
    "print(list1[::-1])"
   ]
  },
  {
   "cell_type": "markdown",
   "metadata": {},
   "source": [
    "#### 異なる要素の混在\n",
    "\n",
    "リストの各要素は異なる型の混在もできます。"
   ]
  },
  {
   "cell_type": "code",
   "execution_count": null,
   "metadata": {},
   "outputs": [],
   "source": [
    "list2 = [1, 2.0, 'abc', False]\n",
    "print(list2)"
   ]
  },
  {
   "cell_type": "markdown",
   "metadata": {},
   "source": [
    "#### リストに要素の追加\n",
    "\n",
    "リストに要素を追加したい場合は、``append``関数を使います。"
   ]
  },
  {
   "cell_type": "code",
   "execution_count": null,
   "metadata": {},
   "outputs": [],
   "source": [
    "# 空リストの定義\n",
    "list3 = []\n",
    "\n",
    "# 要素の追加\n",
    "list3.append(1)\n",
    "list3.append(2.0)\n",
    "list3.append('abc')\n",
    "print(list3)"
   ]
  },
  {
   "cell_type": "markdown",
   "metadata": {},
   "source": [
    "#### リスト間の連結\n",
    "\n",
    "リストとリストを連結したい場合は、``+``演算子を使います。"
   ]
  },
  {
   "cell_type": "code",
   "execution_count": null,
   "metadata": {},
   "outputs": [],
   "source": [
    "list4 = list2 + list3\n",
    "print(list4)"
   ]
  },
  {
   "cell_type": "markdown",
   "metadata": {},
   "source": [
    "### タプル\n",
    "\n",
    "リストと似たデータ型として「タプル」があります。  \n",
    "タプルは、値の変更不可能なリストであると考えて下さい。"
   ]
  },
  {
   "cell_type": "code",
   "execution_count": null,
   "metadata": {},
   "outputs": [],
   "source": [
    "# タプルの場合は[]でなく()で要素を囲みます\n",
    "\n",
    "tap1 = (1,3,5,7)\n",
    "print(tap1)\n",
    "print(type(tap1))"
   ]
  },
  {
   "cell_type": "code",
   "execution_count": null,
   "metadata": {},
   "outputs": [],
   "source": [
    "# タプルの要素への参照はリスト同様[]で行います\n",
    "print(tap1[0], tap1[1])"
   ]
  },
  {
   "cell_type": "code",
   "execution_count": null,
   "metadata": {},
   "outputs": [],
   "source": [
    "# 値を変更しようとすると 。。。\n",
    "tap1[1] = 10"
   ]
  },
  {
   "cell_type": "code",
   "execution_count": null,
   "metadata": {},
   "outputs": [],
   "source": [
    "# リストの場合、上のこと(要素を後で変更する)は可能です\n",
    "\n",
    "list7 = [2,4,6,8,10]\n",
    "list7[2] = 9\n",
    "print(list7)"
   ]
  }
 ],
 "metadata": {
  "kernelspec": {
   "display_name": "Python 3",
   "language": "python",
   "name": "python3"
  },
  "language_info": {
   "codemirror_mode": {
    "name": "ipython",
    "version": 3
   },
   "file_extension": ".py",
   "mimetype": "text/x-python",
   "name": "python",
   "nbconvert_exporter": "python",
   "pygments_lexer": "ipython3",
   "version": "3.7.3"
  }
 },
 "nbformat": 4,
 "nbformat_minor": 1
}
