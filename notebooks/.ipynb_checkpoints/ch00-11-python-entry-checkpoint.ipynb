{
 "cells": [
  {
   "cell_type": "markdown",
   "metadata": {},
   "source": [
    "# Python入門"
   ]
  },
  {
   "cell_type": "markdown",
   "metadata": {},
   "source": [
    "## 第一部 Python文法1\n",
    "変数からタプルまで"
   ]
  },
  {
   "cell_type": "markdown",
   "metadata": {},
   "source": [
    "### 変数の型\n",
    "Pythonの変数には**整数型**、**浮動小数点型**、**文字列型**、**ブーリアン型**などがあります。  \n",
    "C言語のような型の宣言は不要で、代入された値から自動的に型の設定がされます。  \n",
    "変数がどの型を持っているかは、``type``関数で調べることができます。  \n",
    "また、変数の値そのものは ``print``関数で表示できます。"
   ]
  },
  {
   "cell_type": "code",
   "execution_count": null,
   "metadata": {},
   "outputs": [],
   "source": [
    "# 整数型の例\n",
    "\n",
    "x1 = 2\n",
    "print(x1)\n",
    "print(type(x1))"
   ]
  },
  {
   "cell_type": "code",
   "execution_count": null,
   "metadata": {},
   "outputs": [],
   "source": [
    "# 浮動小数点型の例\n",
    "\n",
    "x2 = 3.0\n",
    "print(x2)\n",
    "print(type(x2))"
   ]
  },
  {
   "cell_type": "code",
   "execution_count": null,
   "metadata": {},
   "outputs": [],
   "source": [
    "# 文字列型の例\n",
    "\n",
    "x3 = 'abc'\n",
    "print(x3)\n",
    "print(type(x3))"
   ]
  },
  {
   "cell_type": "code",
   "execution_count": null,
   "metadata": {},
   "outputs": [],
   "source": [
    "# ブーリアン型(True/False)の例\n",
    "\n",
    "x4 = True\n",
    "print(x4)\n",
    "print(type(x4))"
   ]
  },
  {
   "cell_type": "markdown",
   "metadata": {},
   "source": [
    "### 演算\n",
    "\n",
    "数値間の演算は他のプログラム言語同様 ``+, -, *, /`` 等を使います。  \n",
    "文字列同士の連結にも ``+`` を使います。"
   ]
  },
  {
   "cell_type": "code",
   "execution_count": null,
   "metadata": {},
   "outputs": [],
   "source": [
    "# 整数同士の和\n",
    "\n",
    "x1 = 2\n",
    "y1 = 3\n",
    "z1 = x1 + y1\n",
    "print(z1, type(z1))"
   ]
  },
  {
   "cell_type": "code",
   "execution_count": null,
   "metadata": {},
   "outputs": [],
   "source": [
    "# 浮動小数点同士の和\n",
    "\n",
    "x2 = 3.0\n",
    "y2 = 2.0\n",
    "z2 = x2 + y2\n",
    "print(z2, type(z2)) "
   ]
  },
  {
   "cell_type": "code",
   "execution_count": null,
   "metadata": {},
   "outputs": [],
   "source": [
    "# 文字列の連結\n",
    "\n",
    "x3 = 'abc'\n",
    "y3 = 'XYZ'\n",
    "z3 = x3 + y3\n",
    "print(z3, type(z3))"
   ]
  },
  {
   "cell_type": "code",
   "execution_count": null,
   "metadata": {},
   "outputs": [],
   "source": [
    "# 整数と浮動小数点間の演算\n",
    "# 自動的に方が浮動小数点に合わせられる\n",
    "\n",
    "y4 = x1 + y2\n",
    "print(y4, type(y4))"
   ]
  },
  {
   "cell_type": "markdown",
   "metadata": {},
   "source": [
    "#### 比較演算子\n",
    "比較演算子は ``==`` です。"
   ]
  },
  {
   "cell_type": "code",
   "execution_count": null,
   "metadata": {},
   "outputs": [],
   "source": [
    "x1 = 2\n",
    "y1 = 3\n",
    "w1 = 2\n",
    "\n",
    "print(w1 == x1)\n",
    "print(w1 == y1)"
   ]
  },
  {
   "cell_type": "markdown",
   "metadata": {},
   "source": [
    "#### 論理演算子\n",
    "\n",
    "論理演算子は ``and``, ``or``, ``not``です。"
   ]
  },
  {
   "cell_type": "code",
   "execution_count": null,
   "metadata": {},
   "outputs": [],
   "source": [
    "t1 = True\n",
    "t2 = True\n",
    "f1 = False\n",
    "f2 = False"
   ]
  },
  {
   "cell_type": "code",
   "execution_count": null,
   "metadata": {},
   "outputs": [],
   "source": [
    "# AND演算\n",
    "\n",
    "p1 = t1 and t2\n",
    "p2 = t1 and f2\n",
    "print(p1, p2)"
   ]
  },
  {
   "cell_type": "code",
   "execution_count": null,
   "metadata": {},
   "outputs": [],
   "source": [
    "# OR演算\n",
    "\n",
    "q1 = t1 or f1\n",
    "q2 = f1 or f2\n",
    "print(q1, q2)"
   ]
  },
  {
   "cell_type": "code",
   "execution_count": null,
   "metadata": {},
   "outputs": [],
   "source": [
    "# NOT演算\n",
    "\n",
    "r1 = not t1\n",
    "r2 = not f1\n",
    "print(r1, r2)"
   ]
  },
  {
   "cell_type": "markdown",
   "metadata": {},
   "source": [
    "### リスト\n",
    "\n",
    "リストは``[x, y, ...]``のような形式で表現します。  \n",
    "第一要素は``list[0]``, 第二要素は``list[1]``で参照します。  \n",
    "リストの長さを知りたいときは``len``関数を使います。"
   ]
  },
  {
   "cell_type": "code",
   "execution_count": null,
   "metadata": {},
   "outputs": [],
   "source": [
    "# リストの定義\n",
    "\n",
    "list1 = [2, 4, 6, 8, 10, 12, 14]"
   ]
  },
  {
   "cell_type": "code",
   "execution_count": null,
   "metadata": {},
   "outputs": [],
   "source": [
    "# 型は\"list\"\n",
    "\n",
    "print(type(list1))"
   ]
  },
  {
   "cell_type": "code",
   "execution_count": null,
   "metadata": {},
   "outputs": [],
   "source": [
    "# print関数にかけると、全要素が表示される\n",
    "\n",
    "print(list1)"
   ]
  },
  {
   "cell_type": "code",
   "execution_count": null,
   "metadata": {},
   "outputs": [],
   "source": [
    "# 第一要素の表示\n",
    "\n",
    "print(list1[0])"
   ]
  },
  {
   "cell_type": "code",
   "execution_count": null,
   "metadata": {},
   "outputs": [],
   "source": [
    "# 第二要素の表示\n",
    "\n",
    "print(list1[1])"
   ]
  },
  {
   "cell_type": "code",
   "execution_count": null,
   "metadata": {},
   "outputs": [],
   "source": [
    "# リストの長さはlen関数で取得\n",
    "\n",
    "print(len(list1))"
   ]
  },
  {
   "cell_type": "markdown",
   "metadata": {},
   "source": [
    "### 部分リスト\n",
    "\n",
    "``list[0:3]``のような形式の参照も可能で、  \n",
    "この式は第1要素から第3要素までを抜き出した部分リストとなります。  \n",
    "**「0以上で3より前」**という読み方をするとわかりやすいです。"
   ]
  },
  {
   "cell_type": "code",
   "execution_count": null,
   "metadata": {},
   "outputs": [],
   "source": [
    "# list[0]から list[3]より前\n",
    "\n",
    "print(list1[0:3])"
   ]
  },
  {
   "cell_type": "markdown",
   "metadata": {},
   "source": [
    "#### 部分リストの参照パターン\n",
    "\n",
    "``list``を元に部分リストを作る方法には、以下のようないろいろなバリエーションがあります。  \n",
    "機械学習のコーディングでよく使われるテクニックなので、是非マスターして下さい。"
   ]
  },
  {
   "cell_type": "code",
   "execution_count": null,
   "metadata": {},
   "outputs": [],
   "source": [
    "# 最初からlist[2]より前\n",
    "print(list1[0:2])\n",
    "\n",
    "# 第一引数を省略すると\"0\"であるとみなされる\n",
    "print(list1[:2])"
   ]
  },
  {
   "cell_type": "code",
   "execution_count": null,
   "metadata": {},
   "outputs": [],
   "source": [
    "# list[2]から最後まで\n",
    "\n",
    "len1 = len(list1)\n",
    "print(list1[2:len1])\n",
    "\n",
    "# 第二引数を省略すると最終要素(len(list)))であるとみなされる\n",
    "print(list1[2:])"
   ]
  },
  {
   "cell_type": "code",
   "execution_count": null,
   "metadata": {},
   "outputs": [],
   "source": [
    "# ':'' だけの場合は、元のリスト全体を表す\n",
    "\n",
    "print(list1[:])"
   ]
  },
  {
   "cell_type": "code",
   "execution_count": null,
   "metadata": {},
   "outputs": [],
   "source": [
    "# 後ろから2つ\n",
    "\n",
    "print(list1[-2:])"
   ]
  },
  {
   "cell_type": "code",
   "execution_count": null,
   "metadata": {},
   "outputs": [],
   "source": [
    "# 後ろの2つを取り除いたもの\n",
    "\n",
    "print(list1[:-2])"
   ]
  },
  {
   "cell_type": "code",
   "execution_count": null,
   "metadata": {},
   "outputs": [],
   "source": [
    "# 普段は使わないのですが、listには3つめの引数もあり、これを使うとこんなことも可能です\n",
    "\n",
    "# 一つおき\n",
    "\n",
    "print(list1[::2])"
   ]
  },
  {
   "cell_type": "code",
   "execution_count": null,
   "metadata": {},
   "outputs": [],
   "source": [
    "# 第三引数に-1を指定すると「逆順」を意味します\n",
    "\n",
    "print(list1[::-1])"
   ]
  },
  {
   "cell_type": "markdown",
   "metadata": {},
   "source": [
    "#### 異なる要素の混在\n",
    "\n",
    "リストの各要素は異なる型の混在もできます。"
   ]
  },
  {
   "cell_type": "code",
   "execution_count": null,
   "metadata": {},
   "outputs": [],
   "source": [
    "list2 = [1, 2.0, 'abc', False]\n",
    "print(list2)"
   ]
  },
  {
   "cell_type": "markdown",
   "metadata": {},
   "source": [
    "#### リストに要素の追加\n",
    "\n",
    "リストに要素を追加したい場合は、``append``関数を使います。"
   ]
  },
  {
   "cell_type": "code",
   "execution_count": null,
   "metadata": {},
   "outputs": [],
   "source": [
    "# 空リストの定義\n",
    "list3 = []\n",
    "\n",
    "# 要素の追加\n",
    "list3.append(1)\n",
    "list3.append(2.0)\n",
    "list3.append('abc')\n",
    "print(list3)"
   ]
  },
  {
   "cell_type": "markdown",
   "metadata": {},
   "source": [
    "#### リスト間の連結\n",
    "\n",
    "リストとリストを連結したい場合は、``+``演算子を使います。"
   ]
  },
  {
   "cell_type": "code",
   "execution_count": null,
   "metadata": {},
   "outputs": [],
   "source": [
    "list4 = list2 + list3\n",
    "print(list4)"
   ]
  },
  {
   "cell_type": "markdown",
   "metadata": {},
   "source": [
    "### タプル\n",
    "\n",
    "リストと似たデータ型として「タプル」があります。  \n",
    "タプルは、値の変更不可能なリストであると考えて下さい。"
   ]
  },
  {
   "cell_type": "code",
   "execution_count": null,
   "metadata": {},
   "outputs": [],
   "source": [
    "# タプルの場合は[]でなく()で要素を囲みます\n",
    "\n",
    "tap1 = (1,3,5,7)\n",
    "print(tap1)\n",
    "print(type(tap1))"
   ]
  },
  {
   "cell_type": "code",
   "execution_count": null,
   "metadata": {},
   "outputs": [],
   "source": [
    "# タプルの要素への参照はリスト同様[]で行います\n",
    "print(tap1[0], tap1[1])"
   ]
  },
  {
   "cell_type": "code",
   "execution_count": null,
   "metadata": {},
   "outputs": [],
   "source": [
    "# 値を変更しようとすると 。。。\n",
    "tap1[1] = 10"
   ]
  },
  {
   "cell_type": "code",
   "execution_count": null,
   "metadata": {},
   "outputs": [],
   "source": [
    "# リストの場合、上のこと(要素を後で変更する)は可能です\n",
    "\n",
    "list7 = [2,4,6,8,10]\n",
    "list7[2] = 9\n",
    "print(list7)"
   ]
  },
  {
   "cell_type": "markdown",
   "metadata": {},
   "source": [
    "## 第二部 Numpy入門1"
   ]
  },
  {
   "cell_type": "markdown",
   "metadata": {},
   "source": [
    "### Numpyの特徴\n",
    "\n",
    "numpy配列を使って、配列計算を行えます。  \n",
    "NativeなPythonの機能と比較してNumpyを使うことにより次のメリットがあります。\n",
    "\n",
    "* 処理速度が早くなる\n",
    "* 配列の扱い方が柔軟\n",
    "* コードがシンプルになる\n",
    "\n",
    "より詳しい解説は例えば下記のリンク参照して下さい。  \n",
    "[numpyの何がすごいのか？](https://to-kei.net/python/data-analysis/what-is-numpy/)\n"
   ]
  },
  {
   "cell_type": "markdown",
   "metadata": {},
   "source": [
    "### 一次元配列"
   ]
  },
  {
   "cell_type": "markdown",
   "metadata": {},
   "source": [
    "#### 宣言"
   ]
  },
  {
   "cell_type": "code",
   "execution_count": null,
   "metadata": {},
   "outputs": [],
   "source": [
    "# ライブラリのロード\n",
    "import numpy as np\n",
    "\n",
    "# 一次元配列の作成\n",
    "# リスト配列を引数に、array関数でnumpy一次元配列を作ります。\n",
    "\n",
    "list1 = list(range(2,12,2))\n",
    "array1 = np.array(list1)"
   ]
  },
  {
   "cell_type": "code",
   "execution_count": null,
   "metadata": {},
   "outputs": [],
   "source": [
    "# print文による表示結果の比較\n",
    "# 画面上はカンマのあるなしで区別します。\n",
    "\n",
    "print('list配列: ', list1)\n",
    "print('numpy配列: ', array1)\n",
    "array1"
   ]
  },
  {
   "cell_type": "code",
   "execution_count": null,
   "metadata": {},
   "outputs": [],
   "source": [
    "# データ型(dtype)つき変数作成\n",
    "\n",
    "# 個々の要素をデータ型付きで定義することも可能です。\n",
    "# 型には、以下のようなものがあります。\n",
    "#\n",
    "# 符号付き整数: int8, int16, int32, int64\n",
    "# 符号なし整数: unit8, uint16, uint32, uint64\n",
    "# 浮動小数点: float16, float32, float64, float128\n",
    "\n",
    "array2 = np.array([2, 4, 6, 8,10], dtype=np.int32)\n",
    "print(array2)\n",
    "\n",
    "array2"
   ]
  },
  {
   "cell_type": "code",
   "execution_count": null,
   "metadata": {},
   "outputs": [],
   "source": [
    "# 型は' numpy.ndarray' となります\n",
    "\n",
    "print(type(array1))"
   ]
  },
  {
   "cell_type": "code",
   "execution_count": null,
   "metadata": {},
   "outputs": [],
   "source": [
    "# 配列の要素数は'shape'という属性で取得可能です\n",
    "# 結果はtuppleで返されます\n",
    "\n",
    "print(array1.shape)"
   ]
  },
  {
   "cell_type": "markdown",
   "metadata": {},
   "source": [
    "#### 参照"
   ]
  },
  {
   "cell_type": "code",
   "execution_count": null,
   "metadata": {},
   "outputs": [],
   "source": [
    "# 要素の参照例\n",
    "\n",
    "# 先頭\n",
    "print(array1[0])\n",
    "\n",
    "# 一番後ろの要素は-1で参照できます\n",
    "print(array1[-1])"
   ]
  },
  {
   "cell_type": "code",
   "execution_count": null,
   "metadata": {},
   "outputs": [],
   "source": [
    "# 範囲付き参照\n",
    "# このパターンはlist変数と同じです。\n",
    "\n",
    "# 0以上2未満\n",
    "print(array1[:2])\n",
    "\n",
    "# 2以上\n",
    "print(array1[2:])\n",
    "\n",
    "# 全部\n",
    "print(array1[:])"
   ]
  },
  {
   "cell_type": "code",
   "execution_count": null,
   "metadata": {},
   "outputs": [],
   "source": [
    "# こういうアクセス方法も可能です\n",
    "# (これはlistではできない)\n",
    "\n",
    "# array1の0番目、2番目、4番目\n",
    "print(array1[[0,2,4]])\n",
    "\n",
    "# array1の3番目、1番目\n",
    "print(array1[[3,1]])"
   ]
  },
  {
   "cell_type": "markdown",
   "metadata": {},
   "source": [
    "#### 計算"
   ]
  },
  {
   "cell_type": "code",
   "execution_count": null,
   "metadata": {},
   "outputs": [],
   "source": [
    "# 計算の例\n",
    "# numpy配列を対象にすると計算を一気に行うことができます\n",
    "\n",
    "array1 = np.array(list(range(2,12,2)))\n",
    "array3 = np.array(list(range(5)))\n",
    "print(array1)\n",
    "print(array3)"
   ]
  },
  {
   "cell_type": "code",
   "execution_count": null,
   "metadata": {},
   "outputs": [],
   "source": [
    "# 足し算\n",
    "# list変数だとループを回す必要があります\n",
    "\n",
    "array4 = array1 + array3\n",
    "print(array4)"
   ]
  },
  {
   "cell_type": "markdown",
   "metadata": {},
   "source": [
    "#### ブロードキャスト機能"
   ]
  },
  {
   "cell_type": "code",
   "execution_count": null,
   "metadata": {},
   "outputs": [],
   "source": [
    "# ブロードキャスト機能\n",
    "# サイズの異なる変数同士の演算では、サイズを自動的に合わせて計算します\n",
    "\n",
    "array5 = array1 + 3\n",
    "print(array5)"
   ]
  },
  {
   "cell_type": "code",
   "execution_count": null,
   "metadata": {},
   "outputs": [],
   "source": [
    "# 関数呼び出し\n",
    "# numpy関数と組み合わせると、関数呼び出しも全要素分まとめて行えます\n",
    "\n",
    "# 対数関数の呼出し\n",
    "array6 = np.log(array1)\n",
    "print(array6)"
   ]
  },
  {
   "cell_type": "markdown",
   "metadata": {},
   "source": [
    "#### 特定の条件を満たす要素の抽出"
   ]
  },
  {
   "cell_type": "code",
   "execution_count": null,
   "metadata": {},
   "outputs": [],
   "source": [
    "# ブロードキャスト機能とindex機能を組み合わせてこんなことも可能です\n",
    "# arr2 から偶数の要素だけを抜き出す\n",
    "\n",
    "array3 = np.array(list(range(5)))\n",
    "w = (array3 % 2) == 0\n",
    "print(w)"
   ]
  },
  {
   "cell_type": "code",
   "execution_count": null,
   "metadata": {},
   "outputs": [],
   "source": [
    "array7 = array3[w]\n",
    "print(array7)"
   ]
  },
  {
   "cell_type": "code",
   "execution_count": null,
   "metadata": {},
   "outputs": [],
   "source": [
    "# まとめて書くとこうなります\n",
    "\n",
    "array8 = array3[(array3 % 2) == 0]\n",
    "print(array8)"
   ]
  },
  {
   "cell_type": "markdown",
   "metadata": {},
   "source": [
    "#### 内積"
   ]
  },
  {
   "cell_type": "code",
   "execution_count": null,
   "metadata": {},
   "outputs": [],
   "source": [
    "# 内積\n",
    "# 記号 '@' を使って内積計算が可能です。\n",
    "\n",
    "array1 = np.array(list(range(2,12,2)))\n",
    "array3 = np.array(list(range(5)))\n",
    "print(array1)\n",
    "print(array3)\n",
    "\n",
    "p = array1 @ array3\n",
    "print(p)"
   ]
  },
  {
   "cell_type": "markdown",
   "metadata": {},
   "source": [
    "### 二次元配列\n",
    "\n",
    "numpyでは行列のような二次元配列も扱えます。  "
   ]
  },
  {
   "cell_type": "markdown",
   "metadata": {},
   "source": [
    "#### 宣言"
   ]
  },
  {
   "cell_type": "code",
   "execution_count": null,
   "metadata": {},
   "outputs": [],
   "source": [
    "# 二次元配列の宣言\n",
    "# この場合、引数はlistのlistとなります。\n",
    "\n",
    "array8 = np.array([[1,2,3,4,5], [6,7,8,9,10],[11,12,13,14,15]])"
   ]
  },
  {
   "cell_type": "code",
   "execution_count": null,
   "metadata": {},
   "outputs": [],
   "source": [
    "# 二次元配列をprint関数にかけるとこのような表示になります\n",
    "\n",
    "print(array8)"
   ]
  },
  {
   "cell_type": "code",
   "execution_count": null,
   "metadata": {},
   "outputs": [],
   "source": [
    "# 要素数の取得\n",
    "\n",
    "print(array8.shape)"
   ]
  },
  {
   "cell_type": "markdown",
   "metadata": {},
   "source": [
    "#### 参照"
   ]
  },
  {
   "cell_type": "code",
   "execution_count": null,
   "metadata": {},
   "outputs": [],
   "source": [
    "# 要素の参照例\n",
    "\n",
    "# 先頭\n",
    "print(array1[0])\n",
    "\n",
    "# 一番後ろの要素は-1で参照できます\n",
    "print(array1[-1])"
   ]
  },
  {
   "cell_type": "code",
   "execution_count": null,
   "metadata": {},
   "outputs": [],
   "source": [
    "# 範囲付き参照\n",
    "# このパターンはlist変数と同じです。\n",
    "\n",
    "# 0以上2未満\n",
    "print(array1[:2])\n",
    "\n",
    "# 2以上\n",
    "print(array1[2:])\n",
    "\n",
    "# 全部\n",
    "print(array1[:])"
   ]
  },
  {
   "cell_type": "code",
   "execution_count": null,
   "metadata": {},
   "outputs": [],
   "source": [
    "# こういうアクセス方法も可能です\n",
    "# (これはlistではできない)\n",
    "\n",
    "# array1の0番目、2番目、4番目\n",
    "print(array1[[0,2,4]])\n",
    "\n",
    "# array1の3番目、1番目\n",
    "print(array1[[3,1]])"
   ]
  },
  {
   "cell_type": "markdown",
   "metadata": {},
   "source": [
    "#### 計算"
   ]
  },
  {
   "cell_type": "code",
   "execution_count": null,
   "metadata": {},
   "outputs": [],
   "source": [
    "# 計算の例\n",
    "# numpy配列を対象にすると計算を一気に行うことができます\n",
    "\n",
    "array1 = np.array(list(range(2,12,2)))\n",
    "array3 = np.array(list(range(5)))\n",
    "print(array1)\n",
    "print(array3)"
   ]
  },
  {
   "cell_type": "code",
   "execution_count": null,
   "metadata": {},
   "outputs": [],
   "source": [
    "# 足し算\n",
    "# list変数だとループを回す必要があります\n",
    "\n",
    "array4 = array1 + array3\n",
    "print(array4)"
   ]
  },
  {
   "cell_type": "markdown",
   "metadata": {},
   "source": [
    "#### ブロードキャスト機能"
   ]
  },
  {
   "cell_type": "code",
   "execution_count": null,
   "metadata": {},
   "outputs": [],
   "source": [
    "# ブロードキャスト機能\n",
    "# サイズの異なる変数同士の演算では、サイズを自動的に合わせて計算します\n",
    "\n",
    "array5 = array1 + 3\n",
    "print(array5)"
   ]
  },
  {
   "cell_type": "code",
   "execution_count": null,
   "metadata": {},
   "outputs": [],
   "source": [
    "# 関数呼び出し\n",
    "# numpy関数と組み合わせると、関数呼び出しも全要素分まとめて行えます\n",
    "\n",
    "# 対数関数の呼出し\n",
    "array6 = np.log(array1)\n",
    "print(array6)"
   ]
  },
  {
   "cell_type": "markdown",
   "metadata": {},
   "source": [
    "#### 特定の条件を満たす要素の抽出"
   ]
  },
  {
   "cell_type": "code",
   "execution_count": null,
   "metadata": {},
   "outputs": [],
   "source": [
    "# ブロードキャスト機能とindex機能を組み合わせてこんなことも可能です\n",
    "# arr2 から偶数の要素だけを抜き出す\n",
    "\n",
    "array3 = np.array(list(range(5)))\n",
    "w = (array3 % 2) == 0\n",
    "print(w)"
   ]
  },
  {
   "cell_type": "code",
   "execution_count": null,
   "metadata": {},
   "outputs": [],
   "source": [
    "array7 = array3[w]\n",
    "print(array7)"
   ]
  },
  {
   "cell_type": "code",
   "execution_count": null,
   "metadata": {},
   "outputs": [],
   "source": [
    "# まとめて書くとこうなります\n",
    "\n",
    "array8 = array3[(array3 % 2) == 0]\n",
    "print(array8)"
   ]
  },
  {
   "cell_type": "markdown",
   "metadata": {},
   "source": [
    "#### 内積"
   ]
  },
  {
   "cell_type": "code",
   "execution_count": null,
   "metadata": {},
   "outputs": [],
   "source": [
    "# 内積\n",
    "# 記号 '@' を使って内積計算が可能です。\n",
    "\n",
    "array1 = np.array(list(range(2,12,2)))\n",
    "array3 = np.array(list(range(5)))\n",
    "print(array1)\n",
    "print(array3)\n",
    "\n",
    "p = array1 @ array3\n",
    "print(p)"
   ]
  },
  {
   "cell_type": "markdown",
   "metadata": {},
   "source": [
    "### 二次元配列\n",
    "\n",
    "numpyでは行列のような二次元配列も扱えます。  "
   ]
  },
  {
   "cell_type": "markdown",
   "metadata": {},
   "source": [
    "#### 宣言"
   ]
  },
  {
   "cell_type": "code",
   "execution_count": null,
   "metadata": {},
   "outputs": [],
   "source": [
    "# 二次元配列の宣言\n",
    "# この場合、引数はlistのlistとなります。\n",
    "\n",
    "array8 = np.array([[1,2,3,4,5], [6,7,8,9,10],[11,12,13,14,15]])"
   ]
  },
  {
   "cell_type": "code",
   "execution_count": null,
   "metadata": {},
   "outputs": [],
   "source": [
    "# 二次元配列をprint関数にかけるとこのような表示になります\n",
    "\n",
    "print(array8)"
   ]
  },
  {
   "cell_type": "code",
   "execution_count": null,
   "metadata": {},
   "outputs": [],
   "source": [
    "# 要素数の取得\n",
    "\n",
    "print(array8.shape)"
   ]
  },
  {
   "cell_type": "markdown",
   "metadata": {},
   "source": [
    "#### 参照"
   ]
  },
  {
   "cell_type": "code",
   "execution_count": null,
   "metadata": {},
   "outputs": [],
   "source": [
    "# 要素の参照は「(第一次元引数),(第二次元引数)」の形式\n",
    "\n",
    "print(array8[1,2])"
   ]
  },
  {
   "cell_type": "code",
   "execution_count": null,
   "metadata": {},
   "outputs": [],
   "source": [
    "# それぞれの次元に対して範囲指定で参照することも可能\n",
    "\n",
    "print(array8[:2,2:])"
   ]
  },
  {
   "cell_type": "markdown",
   "metadata": {},
   "source": [
    "#### 計算"
   ]
  },
  {
   "cell_type": "code",
   "execution_count": null,
   "metadata": {},
   "outputs": [],
   "source": [
    "# スカラー積\n",
    "\n",
    "a = np.array([[1,2,3],[4,5,6]])\n",
    "b = a * 3\n",
    "print(b)"
   ]
  },
  {
   "cell_type": "code",
   "execution_count": null,
   "metadata": {},
   "outputs": [],
   "source": [
    "# スカラー和\n",
    "\n",
    "a = np.array([[1,2,3],[4,5,6]])\n",
    "c = a + 3\n",
    "print(c)"
   ]
  },
  {
   "cell_type": "code",
   "execution_count": null,
   "metadata": {},
   "outputs": [],
   "source": [
    "# 行列同士の和\n",
    "\n",
    "d = a + b\n",
    "print(d)"
   ]
  },
  {
   "cell_type": "code",
   "execution_count": null,
   "metadata": {},
   "outputs": [],
   "source": [
    "# 行列と1次元配列の内積\n",
    "\n",
    "a = np.array([[1,2,3],[4,5,6]])\n",
    "x = np.array([3,2,1])\n",
    "print(a)\n",
    "print(x)"
   ]
  },
  {
   "cell_type": "code",
   "execution_count": null,
   "metadata": {},
   "outputs": [],
   "source": [
    "# '@'による内積\n",
    "# 行列とベクトルの積になる\n",
    "\n",
    "y = a @ x\n",
    "print(y)"
   ]
  },
  {
   "cell_type": "code",
   "execution_count": null,
   "metadata": {},
   "outputs": [],
   "source": [
    "# * による積\n",
    "# ブロードキャスト機能により要素間の積になる\n",
    "\n",
    "z = a * x\n",
    "print(z)"
   ]
  },
  {
   "cell_type": "markdown",
   "metadata": {},
   "source": [
    "####  特別な配列の生成"
   ]
  },
  {
   "cell_type": "code",
   "execution_count": null,
   "metadata": {},
   "outputs": [],
   "source": [
    "# 要素数(2,3) すべての要素が0の配列\n",
    "\n",
    "z23 = np.zeros((2,3))\n",
    "print(z23)\n",
    "print(z23.shape)"
   ]
  },
  {
   "cell_type": "code",
   "execution_count": null,
   "metadata": {},
   "outputs": [],
   "source": [
    "# 要素数(2,3) すべての要素が1の配列\n",
    "\n",
    "o23 = np.ones((2,3))\n",
    "print(o23)\n",
    "print(o23.shape)"
   ]
  },
  {
   "cell_type": "code",
   "execution_count": null,
   "metadata": {},
   "outputs": [],
   "source": [
    "# 要素数(2,3) すべての要素が[0,1]間の一様乱数の配列\n",
    "\n",
    "u23 = np.random.rand(2,3)\n",
    "print(u23)\n",
    "print(u23.shape)"
   ]
  },
  {
   "cell_type": "code",
   "execution_count": null,
   "metadata": {},
   "outputs": [],
   "source": [
    "# 要素数(2,3) すべての要素が平均0分散1の正規分布乱数の配列\n",
    "\n",
    "s23 = np.random.randn(2,3)\n",
    "print(s23)\n",
    "print(s23.shape)"
   ]
  },
  {
   "cell_type": "markdown",
   "metadata": {},
   "source": [
    "## 第3部 Matplotlib入門"
   ]
  },
  {
   "cell_type": "markdown",
   "metadata": {},
   "source": [
    "### Matplotlibとは\n",
    "\n",
    "PythonのJupyter Notebook環境でグラフ表示を行うためのライブラリです。  \n",
    "NumpyやPandasとの連携を前提に設計されており、簡潔なコードで様々なグラフ表示を行うことができます。  \n",
    "以下は7章の線形回帰の実習で出てくるMatplotlib呼出しコードの解説です。  \n",
    "(書籍内では説明が省かれています)"
   ]
  },
  {
   "cell_type": "markdown",
   "metadata": {},
   "source": [
    "#### データ準備\n",
    "(解説はch00-13-numpy2.ipynbにあります)"
   ]
  },
  {
   "cell_type": "code",
   "execution_count": null,
   "metadata": {},
   "outputs": [],
   "source": [
    "# 必要ライブラリimport\n",
    "import numpy as np\n",
    "from sklearn.datasets import load_boston\n",
    "\n",
    "boston = load_boston()\n",
    "x_org, yt = boston.data, boston.target\n",
    "feature_names = boston.feature_names\n",
    "\n",
    "x_data = x_org[:,feature_names == 'RM']\n",
    "x = np.insert(x_data, 0, 1.0, axis=1)"
   ]
  },
  {
   "cell_type": "markdown",
   "metadata": {},
   "source": [
    "#### 散布図の表示"
   ]
  },
  {
   "cell_type": "code",
   "execution_count": null,
   "metadata": {},
   "outputs": [],
   "source": [
    "# 必要ライブラリimport\n",
    "%matplotlib inline\n",
    "import matplotlib.pyplot as plt"
   ]
  },
  {
   "cell_type": "code",
   "execution_count": null,
   "metadata": {},
   "outputs": [],
   "source": [
    "# 散布図の表示\n",
    "\n",
    "# 散布図は scatter関数で表示します。\n",
    "# 第一引数 xの値の配列 (例では x[:,1])\n",
    "# 第二引数 yの値の配列 (例ではyt)\n",
    "# s: 点の大きさ (オプション)\n",
    "# c: 色指定 (オプション)\n",
    "plt.scatter(x[:,1], yt, s=10, c='b')\n",
    "\n",
    "# xlabel: x軸のラベル表示\n",
    "plt.xlabel('ROOM', fontsize=14)\n",
    "\n",
    "# ylabel: ｙ軸のラベル表示\n",
    "plt.ylabel('PRICE', fontsize=14)\n",
    "\n",
    "# 画面描画を明示的に指示\n",
    "plt.show()"
   ]
  },
  {
   "cell_type": "markdown",
   "metadata": {},
   "source": [
    "#### グラフ表示\n",
    "7章では学習曲線の表示にplot関数が使われています。  \n",
    "学習曲線の計算は大変なので、代わりに5章で出てくるシグモイド関数のグラフ表示コードを示します。"
   ]
  },
  {
   "cell_type": "code",
   "execution_count": null,
   "metadata": {},
   "outputs": [],
   "source": [
    "# シグモイド関数の定義\n",
    "def sigmoid(x):\n",
    "    return 1/(1 + np.exp(-x))"
   ]
  },
  {
   "cell_type": "code",
   "execution_count": null,
   "metadata": {},
   "outputs": [],
   "source": [
    "# xの配列作成\n",
    "# linescapeは与えられた区間の間に等間隔の点を取る関数です。\n",
    "# 下記の例では 区間[-5, 5]の間に101個の点を取ります。\n",
    "\n",
    "x = np.linspace(-5, 5, 101)"
   ]
  },
  {
   "cell_type": "code",
   "execution_count": null,
   "metadata": {},
   "outputs": [],
   "source": [
    "# xの内容表示(一部)\n",
    "print(x[:5])"
   ]
  },
  {
   "cell_type": "code",
   "execution_count": null,
   "metadata": {},
   "outputs": [],
   "source": [
    "# yの配列作成\n",
    "y = sigmoid(x)"
   ]
  },
  {
   "cell_type": "code",
   "execution_count": null,
   "metadata": {},
   "outputs": [],
   "source": [
    "# yの内容表示(一部)\n",
    "print(y[:5])"
   ]
  },
  {
   "cell_type": "code",
   "execution_count": null,
   "metadata": {},
   "outputs": [],
   "source": [
    "# グラフ表示\n",
    "\n",
    "# グラフ表示はplot関数で描画する\n",
    "# 第一引数: xの配列\n",
    "# 第二引数: yの配列\n",
    "# label: グラフのラベル指定(オプション)\n",
    "plt.plot(x, y, label='sigmoid')\n",
    "\n",
    "# グラフ上にグリッド表示を追加\n",
    "plt.grid()\n",
    "\n",
    "# グラフ上に凡例表示を追加\n",
    "plt.legend()\n",
    "\n",
    "# 画面描画を明示的に指示\n",
    "plt.show()"
   ]
  },
  {
   "cell_type": "code",
   "execution_count": null,
   "metadata": {},
   "outputs": [],
   "source": []
  }
 ],
 "metadata": {
  "kernelspec": {
   "display_name": "Python 3",
   "language": "python",
   "name": "python3"
  },
  "language_info": {
   "codemirror_mode": {
    "name": "ipython",
    "version": 3
   },
   "file_extension": ".py",
   "mimetype": "text/x-python",
   "name": "python",
   "nbconvert_exporter": "python",
   "pygments_lexer": "ipython3",
   "version": "3.7.3"
  }
 },
 "nbformat": 4,
 "nbformat_minor": 1
}
