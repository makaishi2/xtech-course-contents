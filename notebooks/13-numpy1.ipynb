{
 "cells": [
  {
   "cell_type": "markdown",
   "metadata": {},
   "source": [
    "## Numpy入門1"
   ]
  },
  {
   "cell_type": "markdown",
   "metadata": {},
   "source": [
    "### Numpyの特徴\n",
    "\n",
    "numpy配列を使って、配列計算を行えます。  \n",
    "NativeなPythonの機能と比較してNumpyを使うことにより次のメリットがあります。\n",
    "\n",
    "* 処理速度が早くなる\n",
    "* 配列の扱い方が柔軟\n",
    "* コードがシンプルになる\n",
    "\n",
    "より詳しい解説は例えば下記のリンク参照して下さい。  \n",
    "[numpyの何がすごいのか？](https://to-kei.net/python/data-analysis/what-is-numpy/)\n"
   ]
  },
  {
   "cell_type": "markdown",
   "metadata": {},
   "source": [
    "### 一次元配列"
   ]
  },
  {
   "cell_type": "markdown",
   "metadata": {},
   "source": [
    "#### 宣言"
   ]
  },
  {
   "cell_type": "code",
   "execution_count": null,
   "metadata": {},
   "outputs": [],
   "source": [
    "# ライブラリのロード\n",
    "import numpy as np\n",
    "\n",
    "# 一次元配列の作成\n",
    "# リスト配列を引数に、array関数でnumpy一次元配列を作ります。\n",
    "\n",
    "list1 = list(range(2,12,2))\n",
    "array1 = np.array(list1)"
   ]
  },
  {
   "cell_type": "code",
   "execution_count": null,
   "metadata": {},
   "outputs": [],
   "source": [
    "# print文による表示結果の比較\n",
    "# 画面上はカンマのあるなしで区別します。\n",
    "\n",
    "print('list配列: ', list1)\n",
    "print('numpy配列: ', array1)\n",
    "array1"
   ]
  },
  {
   "cell_type": "code",
   "execution_count": null,
   "metadata": {},
   "outputs": [],
   "source": [
    "# データ型(dtype)つき変数作成\n",
    "\n",
    "# 個々の要素をデータ型付きで定義することも可能です。\n",
    "# 型には、以下のようなものがあります。\n",
    "#\n",
    "# 符号付き整数: int8, int16, int32, int64\n",
    "# 符号なし整数: unit8, uint16, uint32, uint64\n",
    "# 浮動小数点: float16, float32, float64, float128\n",
    "\n",
    "array2 = np.array([2, 4, 6, 8,10], dtype=np.int32)\n",
    "print(array2)\n",
    "\n",
    "array2"
   ]
  },
  {
   "cell_type": "code",
   "execution_count": null,
   "metadata": {},
   "outputs": [],
   "source": [
    "# 型は' numpy.ndarray' となります\n",
    "\n",
    "print(type(array1))"
   ]
  },
  {
   "cell_type": "code",
   "execution_count": null,
   "metadata": {},
   "outputs": [],
   "source": [
    "# 配列の要素数は'shape'という属性で取得可能です\n",
    "# 結果はtuppleで返されます\n",
    "\n",
    "print(array1.shape)"
   ]
  },
  {
   "cell_type": "markdown",
   "metadata": {},
   "source": [
    "#### 参照"
   ]
  },
  {
   "cell_type": "code",
   "execution_count": null,
   "metadata": {},
   "outputs": [],
   "source": [
    "# 要素の参照例\n",
    "\n",
    "# 先頭\n",
    "print(array1[0])\n",
    "\n",
    "# 一番後ろの要素は-1で参照できます\n",
    "print(array1[-1])"
   ]
  },
  {
   "cell_type": "code",
   "execution_count": null,
   "metadata": {},
   "outputs": [],
   "source": [
    "# 範囲付き参照\n",
    "# このパターンはlist変数と同じです。\n",
    "\n",
    "# 0以上2未満\n",
    "print(array1[:2])\n",
    "\n",
    "# 2以上\n",
    "print(array1[2:])\n",
    "\n",
    "# 全部\n",
    "print(array1[:])"
   ]
  },
  {
   "cell_type": "code",
   "execution_count": null,
   "metadata": {},
   "outputs": [],
   "source": [
    "# こういうアクセス方法も可能です\n",
    "# (これはlistではできない)\n",
    "\n",
    "# array1の0番目、2番目、4番目\n",
    "print(array1[[0,2,4]])\n",
    "\n",
    "# array1の3番目、1番目\n",
    "print(array1[[3,1]])"
   ]
  },
  {
   "cell_type": "markdown",
   "metadata": {},
   "source": [
    "#### 計算"
   ]
  },
  {
   "cell_type": "code",
   "execution_count": null,
   "metadata": {},
   "outputs": [],
   "source": [
    "# 計算の例\n",
    "# numpy配列を対象にすると計算を一気に行うことができます\n",
    "\n",
    "array1 = np.array(list(range(2,12,2)))\n",
    "array3 = np.array(list(range(5)))\n",
    "print(array1)\n",
    "print(array3)"
   ]
  },
  {
   "cell_type": "code",
   "execution_count": null,
   "metadata": {},
   "outputs": [],
   "source": [
    "# 足し算\n",
    "# list変数だとループを回す必要があります\n",
    "\n",
    "array4 = array1 + array3\n",
    "print(array4)"
   ]
  },
  {
   "cell_type": "markdown",
   "metadata": {},
   "source": [
    "#### ブロードキャスト機能"
   ]
  },
  {
   "cell_type": "code",
   "execution_count": null,
   "metadata": {},
   "outputs": [],
   "source": [
    "# ブロードキャスト機能\n",
    "# サイズの異なる変数同士の演算では、サイズを自動的に合わせて計算します\n",
    "\n",
    "array5 = array1 + 3\n",
    "print(array5)"
   ]
  },
  {
   "cell_type": "code",
   "execution_count": null,
   "metadata": {},
   "outputs": [],
   "source": [
    "# 関数呼び出し\n",
    "# numpy関数と組み合わせると、関数呼び出しも全要素分まとめて行えます\n",
    "\n",
    "# 対数関数の呼出し\n",
    "array6 = np.log(array1)\n",
    "print(array6)"
   ]
  },
  {
   "cell_type": "markdown",
   "metadata": {},
   "source": [
    "#### 特定の条件を満たす要素の抽出"
   ]
  },
  {
   "cell_type": "code",
   "execution_count": null,
   "metadata": {},
   "outputs": [],
   "source": [
    "# ブロードキャスト機能とindex機能を組み合わせてこんなことも可能です\n",
    "# arr2 から偶数の要素だけを抜き出す\n",
    "\n",
    "array3 = np.array(list(range(5)))\n",
    "w = (array3 % 2) == 0\n",
    "print(w)"
   ]
  },
  {
   "cell_type": "code",
   "execution_count": null,
   "metadata": {},
   "outputs": [],
   "source": [
    "array7 = array3[w]\n",
    "print(array7)"
   ]
  },
  {
   "cell_type": "code",
   "execution_count": null,
   "metadata": {},
   "outputs": [],
   "source": [
    "# まとめて書くとこうなります\n",
    "\n",
    "array8 = array3[(array3 % 2) == 0]\n",
    "print(array8)"
   ]
  },
  {
   "cell_type": "markdown",
   "metadata": {},
   "source": [
    "#### 内積"
   ]
  },
  {
   "cell_type": "code",
   "execution_count": null,
   "metadata": {},
   "outputs": [],
   "source": [
    "# 内積\n",
    "# 記号 '@' を使って内積計算が可能です。\n",
    "\n",
    "array1 = np.array(list(range(2,12,2)))\n",
    "array3 = np.array(list(range(5)))\n",
    "print(array1)\n",
    "print(array3)\n",
    "\n",
    "p = array1 @ array3\n",
    "print(p)"
   ]
  },
  {
   "cell_type": "markdown",
   "metadata": {},
   "source": [
    "### 二次元配列\n",
    "\n",
    "numpyでは行列のような二次元配列も扱えます。  "
   ]
  },
  {
   "cell_type": "markdown",
   "metadata": {},
   "source": [
    "#### 宣言"
   ]
  },
  {
   "cell_type": "code",
   "execution_count": null,
   "metadata": {},
   "outputs": [],
   "source": [
    "# 二次元配列の宣言\n",
    "# この場合、引数はlistのlistとなります。\n",
    "\n",
    "array8 = np.array([[1,2,3,4,5], [6,7,8,9,10],[11,12,13,14,15]])"
   ]
  },
  {
   "cell_type": "code",
   "execution_count": null,
   "metadata": {},
   "outputs": [],
   "source": [
    "# 二次元配列をprint関数にかけるとこのような表示になります\n",
    "\n",
    "print(array8)"
   ]
  },
  {
   "cell_type": "code",
   "execution_count": null,
   "metadata": {},
   "outputs": [],
   "source": [
    "# 要素数の取得\n",
    "\n",
    "print(array8.shape)"
   ]
  },
  {
   "cell_type": "markdown",
   "metadata": {},
   "source": [
    "#### 参照"
   ]
  },
  {
   "cell_type": "code",
   "execution_count": null,
   "metadata": {},
   "outputs": [],
   "source": [
    "# 要素の参照は「(第一次元引数),(第二次元引数)」の形式\n",
    "\n",
    "print(array8[1,2])"
   ]
  },
  {
   "cell_type": "code",
   "execution_count": null,
   "metadata": {},
   "outputs": [],
   "source": [
    "# それぞれの次元に対して範囲指定で参照することも可能\n",
    "\n",
    "print(array8[:2,2:])"
   ]
  },
  {
   "cell_type": "markdown",
   "metadata": {},
   "source": [
    "#### 計算"
   ]
  },
  {
   "cell_type": "code",
   "execution_count": null,
   "metadata": {},
   "outputs": [],
   "source": [
    "# スカラー積\n",
    "\n",
    "a = np.array([[1,2,3],[4,5,6]])\n",
    "b = a * 3\n",
    "print(b)"
   ]
  },
  {
   "cell_type": "code",
   "execution_count": null,
   "metadata": {},
   "outputs": [],
   "source": [
    "# スカラー和\n",
    "\n",
    "a = np.array([[1,2,3],[4,5,6]])\n",
    "c = a + 3\n",
    "print(c)"
   ]
  },
  {
   "cell_type": "code",
   "execution_count": null,
   "metadata": {},
   "outputs": [],
   "source": [
    "# 行列同士の和\n",
    "\n",
    "d = a + b\n",
    "print(d)"
   ]
  },
  {
   "cell_type": "code",
   "execution_count": null,
   "metadata": {},
   "outputs": [],
   "source": [
    "# 行列と1次元配列の内積\n",
    "\n",
    "a = np.array([[1,2,3],[4,5,6]])\n",
    "x = np.array([3,2,1])\n",
    "print(a)\n",
    "print(x)"
   ]
  },
  {
   "cell_type": "code",
   "execution_count": null,
   "metadata": {},
   "outputs": [],
   "source": [
    "# '@'による内積\n",
    "# 行列とベクトルの積になる\n",
    "\n",
    "y = a @ x\n",
    "print(y)"
   ]
  },
  {
   "cell_type": "code",
   "execution_count": null,
   "metadata": {},
   "outputs": [],
   "source": [
    "# * による積\n",
    "# ブロードキャスト機能により要素間の積になる\n",
    "\n",
    "z = a * x\n",
    "print(z)"
   ]
  },
  {
   "cell_type": "markdown",
   "metadata": {},
   "source": [
    "####  特別な配列の生成"
   ]
  },
  {
   "cell_type": "code",
   "execution_count": null,
   "metadata": {},
   "outputs": [],
   "source": [
    "# 要素数(2,3) すべての要素が0の配列\n",
    "\n",
    "z23 = np.zeros((2,3))\n",
    "print(z23)\n",
    "print(z23.shape)"
   ]
  },
  {
   "cell_type": "code",
   "execution_count": null,
   "metadata": {},
   "outputs": [],
   "source": [
    "# 要素数(2,3) すべての要素が1の配列\n",
    "\n",
    "o23 = np.ones((2,3))\n",
    "print(o23)\n",
    "print(o23.shape)"
   ]
  },
  {
   "cell_type": "code",
   "execution_count": null,
   "metadata": {},
   "outputs": [],
   "source": [
    "# 要素数(2,3) すべての要素が[0,1]間の一様乱数の配列\n",
    "\n",
    "u23 = np.random.rand(2,3)\n",
    "print(u23)\n",
    "print(u23.shape)"
   ]
  },
  {
   "cell_type": "code",
   "execution_count": null,
   "metadata": {},
   "outputs": [],
   "source": [
    "# 要素数(2,3) すべての要素が平均0分散1の正規分布乱数の配列\n",
    "\n",
    "s23 = np.random.randn(2,3)\n",
    "print(s23)\n",
    "print(s23.shape)"
   ]
  },
  {
   "cell_type": "code",
   "execution_count": null,
   "metadata": {},
   "outputs": [],
   "source": []
  }
 ],
 "metadata": {
  "kernelspec": {
   "display_name": "Python 3",
   "language": "python",
   "name": "python3"
  },
  "language_info": {
   "codemirror_mode": {
    "name": "ipython",
    "version": 3
   },
   "file_extension": ".py",
   "mimetype": "text/x-python",
   "name": "python",
   "nbconvert_exporter": "python",
   "pygments_lexer": "ipython3",
   "version": "3.7.3"
  }
 },
 "nbformat": 4,
 "nbformat_minor": 1
}
